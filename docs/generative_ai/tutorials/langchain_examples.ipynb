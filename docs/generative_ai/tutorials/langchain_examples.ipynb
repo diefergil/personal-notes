{
 "cells": [
  {
   "cell_type": "markdown",
   "metadata": {},
   "source": [
    "# Langchain introduction"
   ]
  },
  {
   "cell_type": "code",
   "execution_count": 1,
   "metadata": {},
   "outputs": [],
   "source": [
    "from langchain.llms import OpenAI\n",
    "from langchain.prompts import PromptTemplate\n",
    "from langchain.output_parsers import PydanticOutputParser\n",
    "from pydantic import BaseModel, Field, NonNegativeInt\n",
    "from typing import List\n",
    "from random import sample "
   ]
  },
  {
   "cell_type": "markdown",
   "metadata": {},
   "source": [
    "First, let's create a loader and load reviews from tv-reviews.csv into memory"
   ]
  },
  {
   "cell_type": "code",
   "execution_count": 2,
   "metadata": {},
   "outputs": [],
   "source": [
    "# TODO: load reviews from tv-reviews.csv\n",
    "from langchain.document_loaders.csv_loader import CSVLoader\n",
    "data = CSVLoader(\"./data/tv-reviews.csv\").load()"
   ]
  },
  {
   "cell_type": "markdown",
   "metadata": {},
   "source": [
    "Then, let's initialize our LLM"
   ]
  },
  {
   "cell_type": "code",
   "execution_count": 3,
   "metadata": {},
   "outputs": [
    {
     "name": "stderr",
     "output_type": "stream",
     "text": [
      "/Users/diegofernandezgil/projects/personal-page/.venv/lib/python3.11/site-packages/langchain_community/llms/openai.py:249: UserWarning: You are trying to use a chat model. This way of initializing it is no longer supported. Instead, please use: `from langchain_community.chat_models import ChatOpenAI`\n",
      "  warnings.warn(\n",
      "/Users/diegofernandezgil/projects/personal-page/.venv/lib/python3.11/site-packages/langchain_community/llms/openai.py:1070: UserWarning: You are trying to use a chat model. This way of initializing it is no longer supported. Instead, please use: `from langchain_community.chat_models import ChatOpenAI`\n",
      "  warnings.warn(\n"
     ]
    }
   ],
   "source": [
    "model_name = \"gpt-3.5-turbo\"\n",
    "temperature = 0.0\n",
    "llm = OpenAI(model_name=model_name, temperature=temperature, max_tokens=500)"
   ]
  },
  {
   "cell_type": "markdown",
   "metadata": {},
   "source": [
    "Now, let's setup our parser and a template"
   ]
  },
  {
   "cell_type": "code",
   "execution_count": 4,
   "metadata": {},
   "outputs": [
    {
     "name": "stdout",
     "output_type": "stream",
     "text": [
      "The output should be formatted as a JSON instance that conforms to the JSON schema below.\n",
      "\n",
      "As an example, for the schema {\"properties\": {\"foo\": {\"title\": \"Foo\", \"description\": \"a list of strings\", \"type\": \"array\", \"items\": {\"type\": \"string\"}}}, \"required\": [\"foo\"]}\n",
      "the object {\"foo\": [\"bar\", \"baz\"]} is a well-formatted instance of the schema. The object {\"properties\": {\"foo\": [\"bar\", \"baz\"]}} is not well-formatted.\n",
      "\n",
      "Here is the output schema:\n",
      "```\n",
      "{\"properties\": {\"positives\": {\"title\": \"Positives\", \"description\": \"index of a positive TV review, starting from 0\", \"type\": \"array\", \"items\": {\"type\": \"integer\", \"minimum\": 0}}, \"negatives\": {\"title\": \"Negatives\", \"description\": \"index of a negative TV review, starting from 0\", \"type\": \"array\", \"items\": {\"type\": \"integer\", \"minimum\": 0}}}, \"required\": [\"positives\", \"negatives\"]}\n",
      "```\n"
     ]
    }
   ],
   "source": [
    "class ReviewSentiment(BaseModel):\n",
    "    positives: List[NonNegativeInt] = Field(\n",
    "        description=\"index of a positive TV review, starting from 0\"\n",
    "    )\n",
    "    negatives: List[NonNegativeInt] = Field(\n",
    "        description=\"index of a negative TV review, starting from 0\"\n",
    "    )\n",
    "\n",
    "\n",
    "parser = PydanticOutputParser(pydantic_object=ReviewSentiment)\n",
    "print(parser.get_format_instructions())"
   ]
  },
  {
   "cell_type": "code",
   "execution_count": 5,
   "metadata": {},
   "outputs": [],
   "source": [
    "# TODO: setup a template with partial and input variables\n",
    "prompt = PromptTemplate(\n",
    "    template=\"{question}\\n{format_instructions}\\nContext: {context}\",\n",
    "    input_variables=[\"question\", \"context\"],\n",
    "    partial_variables={\"format_instructions\": parser.get_format_instructions()}\n",
    ")"
   ]
  },
  {
   "cell_type": "markdown",
   "metadata": {},
   "source": [
    "Pick 3 sample reviews to classify - LLMs have a limited context window they can work with. In later exercises, we'll see how to deal with that differently"
   ]
  },
  {
   "cell_type": "code",
   "execution_count": 6,
   "metadata": {},
   "outputs": [
    {
     "data": {
      "text/plain": [
       "[Document(page_content='TV Name: Imagix Pro\\nReview Title: Easy Setup and Navigation\\nReview Rating: 9\\nReview Text: Setting up the Imagix Pro was a breeze. The instructions were clear and the TV guided me through the process smoothly. The interface is intuitive and easy to navigate. I love how seamless it is to switch between different apps and inputs. This TV has made my life so much simpler!', metadata={'source': './data/tv-reviews.csv', 'row': 4}),\n",
       " Document(page_content=\"TV Name: VisionMax Ultra\\nReview Title: Disappointing Sound\\nReview Rating: 5\\nReview Text: While the picture quality of the VisionMax Ultra is exceptional, the sound quality falls short. The built-in speakers lack depth and the audio feels hollow. I had to connect external speakers to enjoy a fulfilling audio experience. It's a letdown considering the overall performance of the TV.\", metadata={'source': './data/tv-reviews.csv', 'row': 11}),\n",
       " Document(page_content=\"TV Name: VisionMax Ultra\\nReview Title: Immersive Audio Experience\\nReview Rating: 10\\nReview Text: The VisionMax Ultra delivers an immersive audio experience. The built-in speakers produce clear and well-balanced sound. The Dolby Atmos technology adds depth and dimension to the audio, making it feel like I'm in a theater. I'm thoroughly impressed!\", metadata={'source': './data/tv-reviews.csv', 'row': 17})]"
      ]
     },
     "execution_count": 6,
     "metadata": {},
     "output_type": "execute_result"
    }
   ],
   "source": [
    "sample(data, k=3)"
   ]
  },
  {
   "cell_type": "code",
   "execution_count": 7,
   "metadata": {},
   "outputs": [],
   "source": [
    "# TODO: pick 3 random reviews and save them into reviews_to_classify variable\n",
    "reviews_to_classify = sample(data, k=3)"
   ]
  },
  {
   "cell_type": "markdown",
   "metadata": {},
   "source": [
    "## generate textual prompt from the prompt template\n",
    "question = \"\"\"\n",
    "    Review TVs provided in the context. \n",
    "    Only use the reviews provided in this context, do not make up new reviews or use any existing information you know about these TVs. \n",
    "    If there are no positive or negative reviews, output an empty JSON array. \n",
    "\"\"\"\n",
    "query = prompt.format(context = context, question = question)"
   ]
  },
  {
   "cell_type": "code",
   "execution_count": 8,
   "metadata": {},
   "outputs": [
    {
     "name": "stdout",
     "output_type": "stream",
     "text": [
      "\n",
      "    Review TVs provided in the context. \n",
      "    Only use the reviews provided in this context, do not make up new reviews or use any existing information you know about these TVs. \n",
      "    If there are no positive or negative reviews, output an empty JSON array. \n",
      "\n",
      "The output should be formatted as a JSON instance that conforms to the JSON schema below.\n",
      "\n",
      "As an example, for the schema {\"properties\": {\"foo\": {\"title\": \"Foo\", \"description\": \"a list of strings\", \"type\": \"array\", \"items\": {\"type\": \"string\"}}}, \"required\": [\"foo\"]}\n",
      "the object {\"foo\": [\"bar\", \"baz\"]} is a well-formatted instance of the schema. The object {\"properties\": {\"foo\": [\"bar\", \"baz\"]}} is not well-formatted.\n",
      "\n",
      "Here is the output schema:\n",
      "```\n",
      "{\"properties\": {\"positives\": {\"title\": \"Positives\", \"description\": \"index of a positive TV review, starting from 0\", \"type\": \"array\", \"items\": {\"type\": \"integer\", \"minimum\": 0}}, \"negatives\": {\"title\": \"Negatives\", \"description\": \"index of a negative TV review, starting from 0\", \"type\": \"array\", \"items\": {\"type\": \"integer\", \"minimum\": 0}}}, \"required\": [\"positives\", \"negatives\"]}\n",
      "```\n",
      "Context: TV Name: VisionMax Ultra\n",
      "Review Title: Insufficient HDMI Ports\n",
      "Review Rating: 6\n",
      "Review Text: One downside of the VisionMax Ultra is the limited number of HDMI ports. With the increasing number of HDMI devices, it's frustrating to constantly switch cables. I wish there were more ports to accommodate all my devices without the need for an HDMI switcher.\n",
      "TV Name: Imagix Pro\n",
      "Review Title: Outstanding Value for Money\n",
      "Review Rating: 9\n",
      "Review Text: The Imagix Pro is a fantastic value for money. Considering its high-quality performance, impressive features, and sleek design, it offers more bang for the buck compared to other TVs in the market. I am extremely satisfied with my purchase.\n",
      "TV Name: Imagix Pro\n",
      "Review Title: Impressive Features\n",
      "Review Rating: 8\n",
      "Review Text: The Imagix Pro is packed with impressive features that enhance my viewing experience. The smart functionality allows me to easily stream my favorite shows and movies. The remote control is user-friendly and has convenient shortcuts. The slim design is sleek and fits perfectly in my living room. The only downside is that the sound could be better, but overall, I'm satisfied.\n"
     ]
    }
   ],
   "source": [
    "question = \"\"\"\n",
    "    Review TVs provided in the context. \n",
    "    Only use the reviews provided in this context, do not make up new reviews or use any existing information you know about these TVs. \n",
    "    If there are no positive or negative reviews, output an empty JSON array. \n",
    "\"\"\"\n",
    "context = \"\\n\".join(review.page_content for review in reviews_to_classify)\n",
    "\n",
    "query = prompt.format(context=context, question=question)\n",
    "print(query)"
   ]
  },
  {
   "cell_type": "markdown",
   "metadata": {},
   "source": [
    "Finally, let's send our query to LLM and use the parser we setup to parse an output into a Python object"
   ]
  },
  {
   "cell_type": "code",
   "execution_count": 9,
   "metadata": {},
   "outputs": [
    {
     "name": "stderr",
     "output_type": "stream",
     "text": [
      "/Users/diegofernandezgil/projects/personal-page/.venv/lib/python3.11/site-packages/langchain_core/_api/deprecation.py:117: LangChainDeprecationWarning: The function `__call__` was deprecated in LangChain 0.1.7 and will be removed in 0.2.0. Use invoke instead.\n",
      "  warn_deprecated(\n"
     ]
    },
    {
     "name": "stdout",
     "output_type": "stream",
     "text": [
      "{\n",
      "    \"positives\": [1, 2],\n",
      "    \"negatives\": [0]\n",
      "}\n"
     ]
    }
   ],
   "source": [
    "output = llm(query)\n",
    "print(output)\n"
   ]
  },
  {
   "cell_type": "code",
   "execution_count": 10,
   "metadata": {},
   "outputs": [
    {
     "data": {
      "text/plain": [
       "ReviewSentiment(positives=[1, 2], negatives=[0])"
      ]
     },
     "execution_count": 10,
     "metadata": {},
     "output_type": "execute_result"
    }
   ],
   "source": [
    "result = parser.parse(output)\n",
    "result"
   ]
  },
  {
   "cell_type": "code",
   "execution_count": 11,
   "metadata": {},
   "outputs": [
    {
     "name": "stdout",
     "output_type": "stream",
     "text": [
      "Positives:\n",
      "TV Name: Imagix Pro\n",
      "Review Title: Outstanding Value for Money\n",
      "Review Rating: 9\n",
      "Review Text: The Imagix Pro is a fantastic value for money. Considering its high-quality performance, impressive features, and sleek design, it offers more bang for the buck compared to other TVs in the market. I am extremely satisfied with my purchase.\n",
      "TV Name: Imagix Pro\n",
      "Review Title: Impressive Features\n",
      "Review Rating: 8\n",
      "Review Text: The Imagix Pro is packed with impressive features that enhance my viewing experience. The smart functionality allows me to easily stream my favorite shows and movies. The remote control is user-friendly and has convenient shortcuts. The slim design is sleek and fits perfectly in my living room. The only downside is that the sound could be better, but overall, I'm satisfied.\n"
     ]
    }
   ],
   "source": [
    "# TODO: query LLM, then parse output into the result variable\n",
    "print(\"Positives:\\n\" + \"\\n\".join([reviews_to_classify[i].page_content for i in result.positives]))"
   ]
  },
  {
   "cell_type": "code",
   "execution_count": 12,
   "metadata": {},
   "outputs": [
    {
     "name": "stdout",
     "output_type": "stream",
     "text": [
      "Negatives:\n",
      "TV Name: VisionMax Ultra\n",
      "Review Title: Insufficient HDMI Ports\n",
      "Review Rating: 6\n",
      "Review Text: One downside of the VisionMax Ultra is the limited number of HDMI ports. With the increasing number of HDMI devices, it's frustrating to constantly switch cables. I wish there were more ports to accommodate all my devices without the need for an HDMI switcher.\n"
     ]
    }
   ],
   "source": [
    "print(\n",
    "    \"Negatives:\\n\"\n",
    "    + \"\\n\".join([reviews_to_classify[i].page_content for i in result.negatives])\n",
    ")"
   ]
  },
  {
   "cell_type": "markdown",
   "metadata": {},
   "source": [
    "# Add semantic Search using RAG"
   ]
  },
  {
   "cell_type": "code",
   "execution_count": 6,
   "metadata": {},
   "outputs": [],
   "source": [
    "from langchain.embeddings.openai import OpenAIEmbeddings\n",
    "from langchain.text_splitter import CharacterTextSplitter\n",
    "from langchain.vectorstores import Chroma\n",
    "from langchain.chains import RetrievalQA\n",
    "from langchain import LLMChain\n",
    "from langchain.chains.question_answering import load_qa_chain"
   ]
  },
  {
   "cell_type": "markdown",
   "metadata": {},
   "source": [
    "use a Text Splitter to split the documents into chunks"
   ]
  },
  {
   "cell_type": "code",
   "execution_count": 19,
   "metadata": {},
   "outputs": [
    {
     "name": "stderr",
     "output_type": "stream",
     "text": [
      "/Users/diegofernandezgil/projects/personal-page/.venv/lib/python3.11/site-packages/langchain_community/llms/openai.py:249: UserWarning: You are trying to use a chat model. This way of initializing it is no longer supported. Instead, please use: `from langchain_community.chat_models import ChatOpenAI`\n",
      "  warnings.warn(\n",
      "/Users/diegofernandezgil/projects/personal-page/.venv/lib/python3.11/site-packages/langchain_community/llms/openai.py:1070: UserWarning: You are trying to use a chat model. This way of initializing it is no longer supported. Instead, please use: `from langchain_community.chat_models import ChatOpenAI`\n",
      "  warnings.warn(\n"
     ]
    }
   ],
   "source": [
    "model_name = \"gpt-3.5-turbo\"\n",
    "temperature = 0.0\n",
    "llm = OpenAI(model_name=model_name, temperature=temperature, max_tokens=2000)"
   ]
  },
  {
   "cell_type": "code",
   "execution_count": 20,
   "metadata": {},
   "outputs": [],
   "source": [
    "data = CSVLoader(\"./data/tv-reviews.csv\").load()\n",
    "text_splitter = CharacterTextSplitter(\n",
    "    chunk_size=1000, chunk_overlap=0\n",
    ")\n",
    "\n",
    "documents = text_splitter.split_documents(data)"
   ]
  },
  {
   "cell_type": "code",
   "execution_count": 21,
   "metadata": {},
   "outputs": [
    {
     "data": {
      "text/plain": [
       "20"
      ]
     },
     "execution_count": 21,
     "metadata": {},
     "output_type": "execute_result"
    }
   ],
   "source": [
    "len(documents)"
   ]
  },
  {
   "cell_type": "markdown",
   "metadata": {},
   "source": [
    "Initialize your embeddings model"
   ]
  },
  {
   "cell_type": "code",
   "execution_count": 22,
   "metadata": {},
   "outputs": [],
   "source": [
    "underlying_embeddings = OpenAIEmbeddings()"
   ]
  },
  {
   "cell_type": "markdown",
   "metadata": {},
   "source": [
    "Populate your vector database with the chunks"
   ]
  },
  {
   "cell_type": "code",
   "execution_count": 23,
   "metadata": {},
   "outputs": [],
   "source": [
    "db = Chroma.from_documents(documents, OpenAIEmbeddings())"
   ]
  },
  {
   "cell_type": "code",
   "execution_count": 30,
   "metadata": {},
   "outputs": [],
   "source": [
    "query = \"\"\"\n",
    "    Based on the reviews in the context, tell me what people liked about the picture quality.\n",
    "    Make sure you do not paraphrase the reviews, and only use the information provided in the reviews.\n",
    "    \"\"\"\n",
    "# find top 5 semantically similar documents to the query\n",
    "docs = db.similarity_search(query, 5)"
   ]
  },
  {
   "cell_type": "code",
   "execution_count": 31,
   "metadata": {},
   "outputs": [
    {
     "name": "stdout",
     "output_type": "stream",
     "text": [
      "5\n"
     ]
    }
   ],
   "source": [
    "print(len(docs))"
   ]
  },
  {
   "cell_type": "code",
   "execution_count": 32,
   "metadata": {},
   "outputs": [
    {
     "name": "stdout",
     "output_type": "stream",
     "text": [
      "TV Name: Imagix Pro\n",
      "Review Title: Amazing Picture Quality\n",
      "Review Rating: 9\n",
      "Review Text: I recently purchased the Imagix Pro and I am blown away by its picture quality. The colors are vibrant and the images are crystal clear. It feels like I'm watching movies in a theater! The sound is also impressive, creating a truly immersive experience. Highly recommended!\n"
     ]
    }
   ],
   "source": [
    "print(docs[0].page_content)"
   ]
  },
  {
   "cell_type": "markdown",
   "metadata": {},
   "source": [
    "Query your LLM with the query and the top 5 documents"
   ]
  },
  {
   "cell_type": "code",
   "execution_count": 33,
   "metadata": {},
   "outputs": [
    {
     "name": "stdout",
     "output_type": "stream",
     "text": [
      "People liked the vibrant colors, crystal clear images, and unmatched clarity of the picture quality on the Imagix Pro TV. They mentioned that it felt like watching movies in a theater and that every detail was sharp and lifelike, enhancing their overall viewing experience.\n"
     ]
    }
   ],
   "source": [
    "prompt = PromptTemplate(\n",
    "    template=\"{query}\\Context: {context}\", input_variables=[\"query\", \"context\"]\n",
    ")\n",
    "\n",
    "chain = load_qa_chain(llm, prompt=prompt, chain_type=\"stuff\")\n",
    "print(chain.run(input_documents=docs, query=query))"
   ]
  },
  {
   "cell_type": "markdown",
   "metadata": {},
   "source": [
    "Use rag chain"
   ]
  },
  {
   "cell_type": "code",
   "execution_count": 35,
   "metadata": {},
   "outputs": [
    {
     "name": "stdout",
     "output_type": "stream",
     "text": [
      "People liked the vibrant colors, crystal clear images, and unmatched clarity of the picture quality on the Imagix Pro TV.\n"
     ]
    }
   ],
   "source": [
    "rag = RetrievalQA.from_chain_type(\n",
    "    llm=llm,\n",
    "    chain_type='stuff',\n",
    "    retriever=db.as_retriever()\n",
    "    \n",
    ")\n",
    "print(rag.run(query))"
   ]
  },
  {
   "cell_type": "markdown",
   "metadata": {},
   "source": [
    "# Memory"
   ]
  },
  {
   "cell_type": "code",
   "execution_count": 1,
   "metadata": {},
   "outputs": [],
   "source": [
    "from langchain.chat_models import ChatOpenAI\n",
    "from langchain.llms import OpenAI\n",
    "from langchain.prompts import PromptTemplate\n",
    "from langchain.schema import AIMessage, HumanMessage, SystemMessage\n",
    "from langchain.memory import ConversationSummaryMemory, ConversationBufferMemory, CombinedMemory, ChatMessageHistory\n",
    "from langchain.chains import ConversationChain\n",
    "from typing import Any, Dict, Optional, Tuple\n",
    "\n",
    "import requests"
   ]
  },
  {
   "cell_type": "code",
   "execution_count": 2,
   "metadata": {},
   "outputs": [],
   "source": [
    "# Code to get the movie plot from Wikipedia\n",
    "def get_movie_plot(movie_name):\n",
    "    headers = {\"User-Agent\": \"MoviePlotFetcher/1.0\"}\n",
    "\n",
    "    base_url = f\"https://en.wikipedia.org/w/api.php\"\n",
    "\n",
    "    def is_movie_page(title):\n",
    "        params = {\n",
    "            \"action\": \"query\",\n",
    "            \"format\": \"json\",\n",
    "            \"titles\": title,\n",
    "            \"prop\": \"categories|revisions\",\n",
    "            \"rvprop\": \"content\",\n",
    "            \"cllimit\": \"max\",\n",
    "        }\n",
    "\n",
    "        response = requests.get(base_url, headers=headers, params=params)\n",
    "        data = response.json()\n",
    "\n",
    "        try:\n",
    "            page = list(data[\"query\"][\"pages\"].values())[0]\n",
    "\n",
    "            # Check categories for Movie indication\n",
    "            categories = [cat[\"title\"] for cat in page.get(\"categories\", [])]\n",
    "            for category in categories:\n",
    "                if \"films\" in category.lower():\n",
    "                    return True\n",
    "\n",
    "            # Check for infobox movie in the page content\n",
    "            content = page[\"revisions\"][0][\"*\"]\n",
    "            if \"{{Infobox film\" in content:\n",
    "                return True\n",
    "\n",
    "        except Exception as e:\n",
    "            pass\n",
    "\n",
    "        return False\n",
    "\n",
    "    def extract_plot_from_text(full_text):\n",
    "        try:\n",
    "            # Find the start of the Plot section\n",
    "            plot_start = full_text.index(\"== Plot ==\") + len(\"== Plot ==\")\n",
    "\n",
    "            # Find the start of the next section\n",
    "            next_section_start = full_text.find(\"==\", plot_start)\n",
    "\n",
    "            # If no next section is found, use the end of the text\n",
    "            if next_section_start == -1:\n",
    "                next_section_start = len(full_text)\n",
    "\n",
    "            # Extract the plot text and strip leading/trailing whitespace\n",
    "            plot_text = full_text[plot_start:next_section_start].strip()\n",
    "\n",
    "            # Return the extracted plot\n",
    "            return plot_text\n",
    "\n",
    "        except ValueError:\n",
    "            # Return a message if the Plot section isn't found\n",
    "            return \"Plot section not found in the text.\"\n",
    "\n",
    "    def extract_first_paragraph(full_text):\n",
    "        # Find the first double newline\n",
    "        end_of_first_paragraph = full_text.find(\"\\n\\n\")\n",
    "\n",
    "        # If found, slice the string to get the first paragraph\n",
    "        if end_of_first_paragraph != -1:\n",
    "            return full_text[:end_of_first_paragraph].strip()\n",
    "\n",
    "        # If not found, return the whole text as it might be just one paragraph\n",
    "        return full_text.strip()\n",
    "\n",
    "    search_params = {\n",
    "        \"action\": \"query\",\n",
    "        \"format\": \"json\",\n",
    "        \"list\": \"search\",\n",
    "        \"srsearch\": movie_name,\n",
    "        \"utf8\": 1,\n",
    "        \"srlimit\": 5,  # Top 5 search results\n",
    "    }\n",
    "\n",
    "    response = requests.get(base_url, headers=headers, params=search_params)\n",
    "    data = response.json()\n",
    "\n",
    "    # Go through top search results to find a movie page\n",
    "    for search_result in data[\"query\"][\"search\"]:\n",
    "        title = search_result[\"title\"]\n",
    "        if is_movie_page(title):\n",
    "            # Fetch plot for the movie page\n",
    "            plot_params = {\n",
    "                \"action\": \"query\",\n",
    "                \"format\": \"json\",\n",
    "                \"titles\": title,\n",
    "                \"prop\": \"extracts\",\n",
    "                \"explaintext\": True,\n",
    "            }\n",
    "\n",
    "            plot_response = requests.get(base_url, headers=headers, params=plot_params)\n",
    "            plot_data = plot_response.json()\n",
    "\n",
    "            try:\n",
    "                page = list(plot_data[\"query\"][\"pages\"].values())[0]\n",
    "                full_text = page.get(\"extract\", \"No text...\")\n",
    "                return f\"\"\"Overview:\\n{extract_first_paragraph(full_text)}\\nPlot:\\n{extract_plot_from_text(full_text)}\"\"\".strip()\n",
    "            except:\n",
    "                return \"Error fetching plot.\"\n",
    "\n",
    "    return \"Movie not found.\""
   ]
  },
  {
   "cell_type": "code",
   "execution_count": 3,
   "metadata": {},
   "outputs": [
    {
     "name": "stderr",
     "output_type": "stream",
     "text": [
      "/Users/diegofernandezgil/projects/personal-page/.venv/lib/python3.11/site-packages/langchain_community/llms/openai.py:249: UserWarning: You are trying to use a chat model. This way of initializing it is no longer supported. Instead, please use: `from langchain_community.chat_models import ChatOpenAI`\n",
      "  warnings.warn(\n",
      "/Users/diegofernandezgil/projects/personal-page/.venv/lib/python3.11/site-packages/langchain_community/llms/openai.py:1070: UserWarning: You are trying to use a chat model. This way of initializing it is no longer supported. Instead, please use: `from langchain_community.chat_models import ChatOpenAI`\n",
      "  warnings.warn(\n"
     ]
    }
   ],
   "source": [
    "model_name = \"gpt-3.5-turbo\"\n",
    "temperature = 0.0\n",
    "llm = OpenAI(model_name=model_name, temperature=temperature, max_tokens=2000)"
   ]
  },
  {
   "cell_type": "markdown",
   "metadata": {},
   "source": [
    "Now, let's setup some personal q/a over your movie preferences. Feel free to pick whichever questions you think will allow \n",
    "LLL to predict the movies you'll like"
   ]
  },
  {
   "cell_type": "code",
   "execution_count": 4,
   "metadata": {},
   "outputs": [],
   "source": [
    "# update these questions as you think will be the most helpful for your AI recommender\n",
    "personal_questions = [\n",
    "    \"Which movie genre you like the most?\",\n",
    "    \"What is your favorite color?\",\n",
    "    \"What is your favorite movie?\",\n",
    "    \"Pick one - dogs, cats or hamsters?\",\n",
    "    \"What is your favorite food?\",\n",
    "    \"What is your favorite drink?\",\n",
    "]\n",
    "\n",
    "# personal_answers = [ ]\n",
    "\n",
    "# for question in personal_questions:\n",
    "#    answer = input(question)\n",
    "#    personal_answers.append(answer)\n",
    "\n",
    "# list of your personal answers to the questions above\n",
    "personal_answers = [\n",
    "    \"Fantasy\",\n",
    "    \"blue\",\n",
    "    \"The lord of the rings\",\n",
    "    \"dogs\",\n",
    "    \"pasta\",\n",
    "    \"coffe\",\n",
    "]"
   ]
  },
  {
   "cell_type": "code",
   "execution_count": 5,
   "metadata": {},
   "outputs": [],
   "source": [
    "# list of recent movies that you'd like AI to consider when recommending a movie\n",
    "movies = [\"Barbie\", \"Oppenheimer\", \"The Notebook\", \"Dumb Money\"]"
   ]
  },
  {
   "cell_type": "markdown",
   "metadata": {},
   "source": [
    "Now, let's setup a chat history between you and AI where we provide your answers to the questions AI \"asked\""
   ]
  },
  {
   "cell_type": "code",
   "execution_count": 9,
   "metadata": {},
   "outputs": [],
   "source": [
    "history = ChatMessageHistory()\n",
    "history.add_user_message(\n",
    "    f\"\"\"You are AI that will recommend user a movie based on their answers \n",
    "    to personal questions. \n",
    "    Ask user {len(personal_questions)} questions\"\"\"\n",
    ")\n",
    "\n",
    "# add questions and answers to the history\n",
    "for question, answer in zip(personal_questions, personal_answers):\n",
    "    history.add_ai_message(question)\n",
    "    history.add_user_message(answer)\n",
    "\n",
    "history.add_ai_message(\n",
    "    \"\"\"Now tell me a plot summary of a movie you're considering watching, \n",
    "    and specify how you want me to respond to you with the movie rating\"\"\"\n",
    ")"
   ]
  },
  {
   "cell_type": "code",
   "execution_count": 10,
   "metadata": {},
   "outputs": [
    {
     "name": "stdout",
     "output_type": "stream",
     "text": [
      "Human: You are AI that will recommend user a movie based on their answers \n",
      "    to personal questions. \n",
      "    Ask user 6 questions\n",
      "AI: Which movie genre you like the most?\n",
      "Human: Fantasy\n",
      "AI: What is your favorite color?\n",
      "Human: blue\n",
      "AI: What is your favorite movie?\n",
      "Human: The lord of the rings\n",
      "AI: Pick one - dogs, cats or hamsters?\n",
      "Human: dogs\n",
      "AI: What is your favorite food?\n",
      "Human: pasta\n",
      "AI: What is your favorite drink?\n",
      "Human: coffe\n",
      "AI: Now tell me a plot summary of a movie you're considering watching, \n",
      "    and specify how you want me to respond to you with the movie rating\n"
     ]
    }
   ],
   "source": [
    "print(history)"
   ]
  },
  {
   "cell_type": "markdown",
   "metadata": {},
   "source": [
    "Now, we want to load movie plots from Wikipedia, pass them to LLM and see how it would the movie for us based on our personal q/a\n",
    "Holding all movie plots and their recommendations within conversation would eventually put us over max tokens limit, so let's create a ConversationSummaryMemory \n",
    "that would hold a summary of our conversation and AI recommendations"
   ]
  },
  {
   "cell_type": "code",
   "execution_count": 11,
   "metadata": {},
   "outputs": [],
   "source": [
    "\n",
    "max_rating = 100\n",
    "summary_memory = ConversationSummaryMemory(\n",
    "    llm=llm,\n",
    "    memory_key=\"recommendation_summary\",\n",
    "    input_key=\"input\",\n",
    "    buffer=f\"The human answered {len(personal_questions)} personal questions). Use them to rate, from 1 to {max_rating}, how much they like a movie they describe to you.\",\n",
    "    return_messages=True,\n",
    ")"
   ]
  },
  {
   "cell_type": "markdown",
   "metadata": {},
   "source": [
    "Create a memory that will have a summary of the recommendations.\n",
    "it'll track of the onngoing conversation state.\n",
    "\n",
    "we'll forget human messages passing the initial ones, we initialize with. Because the plots are too long.\n",
    "\n",
    "We do this by overriding the save_context function and ignoring the inputs or human messages."
   ]
  },
  {
   "cell_type": "code",
   "execution_count": 12,
   "metadata": {},
   "outputs": [],
   "source": [
    "# you could choose to store some of the q/a in memory as well, in addition to original questions\n",
    "# it'll keep track of llm responses\n",
    "class MementoBufferMemory(ConversationBufferMemory):\n",
    "    def save_context(self, inputs: Dict[str, Any], outputs: Dict[str, str]) -> None:\n",
    "        input_str, output_str = self._get_input_output(inputs, outputs)\n",
    "        self.chat_memory.add_ai_message(output_str)\n",
    "\n",
    "\n",
    "conversational_memory = MementoBufferMemory(\n",
    "    chat_memory=history, memory_key=\"questions_and_answers\", input_key=\"input\"\n",
    ")\n",
    "\n"
   ]
  },
  {
   "cell_type": "markdown",
   "metadata": {},
   "source": [
    "we'll setup a combined memory which will forward each message in our ongoing conversation into both: conversational and summary memories."
   ]
  },
  {
   "cell_type": "code",
   "execution_count": 13,
   "metadata": {},
   "outputs": [],
   "source": [
    "# Combined\n",
    "memory = CombinedMemory(memories=[conversational_memory, summary_memory])"
   ]
  },
  {
   "cell_type": "markdown",
   "metadata": {},
   "source": [
    "Now, let's create a PromptTemplate that would hold continuously updating summary of our conversation, our personal Q/A, and a placeholder for movie plot for AI to rate.\n",
    "Think about how you can pass your questions and answers into the template - there are many different ways to do it"
   ]
  },
  {
   "cell_type": "code",
   "execution_count": 14,
   "metadata": {},
   "outputs": [],
   "source": [
    "RECOMMENDER_TEMPLATE = \"\"\"\n",
    "The following is a friendly conversation between a human and an AI Movie Recommender. \n",
    "The AI is follows human instructions and provides movie ratings for a human \n",
    "based on the movie plot. \n",
    "\n",
    "Summary of Recommendations:\n",
    "{recommendation_summary}\n",
    "Personal Questions and Answers:\n",
    "{questions_and_answers}\n",
    "Human: {input}\n",
    "AI:\n",
    "\"\"\"\n",
    "PROMPT = PromptTemplate(\n",
    "    input_variables=[\"recommendation_summary\", \"input\", \"questions_and_answers\"],\n",
    "    template=RECOMMENDER_TEMPLATE\n",
    ")\n",
    "# create a recommendation conversation chain that will let us ask AI for recommendations on all movies\n",
    "recommender = ConversationChain(llm=llm, verbose=True, memory=memory, prompt=PROMPT)"
   ]
  },
  {
   "cell_type": "markdown",
   "metadata": {},
   "source": [
    "Let's go thru a list of our movies, fetch their plots and run our recommendation chain for one movie at a time so we don't overload the context window"
   ]
  },
  {
   "cell_type": "code",
   "execution_count": 17,
   "metadata": {},
   "outputs": [
    {
     "name": "stdout",
     "output_type": "stream",
     "text": [
      "Movie: Barbie\n"
     ]
    },
    {
     "name": "stdout",
     "output_type": "stream",
     "text": [
      "\n",
      "\n",
      "\u001b[1m> Entering new ConversationChain chain...\u001b[0m\n",
      "Prompt after formatting:\n",
      "\u001b[32;1m\u001b[1;3m\n",
      "The following is a friendly conversation between a human and an AI Movie Recommender. \n",
      "The AI is follows human instructions and provides movie ratings for a human \n",
      "based on the movie plot. \n",
      "\n",
      "Summary of Recommendations:\n",
      "[SystemMessage(content='The human answered 6 personal questions and provided a detailed plot summary of the movie \"Barbie.\" Based on the human\\'s preferences for fantasy movies, the color blue, dogs, pasta, and coffee, as well as their favorite movie being \"The Lord of the Rings,\" the AI created a persona for the human. The persona enjoys imaginative and adventurous stories, vibrant colors, dogs, comforting meals, and coffee. Considering this persona, the AI rated the movie \"Barbie\" a 85 out of 100, as it aligns well with the human\\'s preferences for fantasy, adventure, and thought-provoking themes. Based on the plot summary of \"Oppenheimer,\" an epic biographical thriller film, the AI created a persona for the human who appreciates deep and thought-provoking narratives. Despite not aligning perfectly with the human\\'s usual preferences for fantasy and adventure, the AI rated the movie a 75 out of 100, considering its historical significance and complex characters.')]\n",
      "Personal Questions and Answers:\n",
      "Human: You are AI that will recommend user a movie based on their answers \n",
      "    to personal questions. \n",
      "    Ask user 6 questions\n",
      "AI: Which movie genre you like the most?\n",
      "Human: Fantasy\n",
      "AI: What is your favorite color?\n",
      "Human: blue\n",
      "AI: What is your favorite movie?\n",
      "Human: The lord of the rings\n",
      "AI: Pick one - dogs, cats or hamsters?\n",
      "Human: dogs\n",
      "AI: What is your favorite food?\n",
      "Human: pasta\n",
      "AI: What is your favorite drink?\n",
      "Human: coffe\n",
      "AI: Now tell me a plot summary of a movie you're considering watching, \n",
      "    and specify how you want me to respond to you with the movie rating\n",
      "AI: Based on the personal questions answered by the human, it seems that they have a preference for fantasy movies, the color blue, dogs, pasta, and coffee. They also mentioned that their favorite movie is \"The Lord of the Rings.\" \n",
      "\n",
      "Considering these preferences, the persona I have built for the human is someone who enjoys imaginative and adventurous stories, appreciates vibrant and calming colors like blue, has a fondness for dogs, enjoys comforting and hearty meals like pasta, and likes to relax with a cup of coffee. \n",
      "\n",
      "Given the plot summary of \"Barbie,\" which involves a fantasy world, self-discovery, and a commentary on societal norms, I believe this movie aligns well with the human's preferences. The movie combines elements of fantasy, adventure, and social commentary, which are likely to appeal to someone who enjoys the fantasy genre and thought-provoking themes. \n",
      "\n",
      "Therefore, based on the human's persona and their preferences, I would rate the movie \"Barbie\" a 85 out of 100.\n",
      "\n",
      "RATING FOR MOVIE Barbie is 85\n",
      "AI: Based on the personal questions answered by the human, it is clear that they have a preference for fantasy movies, the color blue, dogs, pasta, and coffee. Their favorite movie is \"The Lord of the Rings,\" indicating a love for epic and adventurous stories. \n",
      "\n",
      "The persona I have built for the human is someone who enjoys imaginative and adventurous narratives, vibrant and calming colors like blue, has a fondness for dogs, appreciates comforting meals like pasta, and likes to relax with a cup of coffee. \n",
      "\n",
      "Given the plot summary of \"Oppenheimer,\" which is an epic biographical thriller film about J. Robert Oppenheimer's role in the development of the atomic bomb during World War II, it may not align perfectly with the human's preferences for fantasy and adventure. However, the film does offer a deep and thought-provoking exploration of historical events and complex characters, which could still be engaging for someone who appreciates intriguing and well-crafted stories.\n",
      "\n",
      "Therefore, considering the human's persona and preferences, I would rate the movie \"Oppenheimer\" a 75 out of 100. While it may not be a perfect match for their usual preferences, the film's depth and historical significance could still make it an interesting watch for them.\n",
      "\n",
      "RATING FOR MOVIE Oppenheimer is 75\n",
      "Human: \n",
      "         =====================================\n",
      "        === START MOVIE PLOT SUMMARY FOR Barbie ===\n",
      "        Overview:\n",
      "Barbie is a 2023 fantasy comedy film directed by Greta Gerwig from a screenplay she wrote with Noah Baumbach. Based on the eponymous fashion dolls by Mattel, it is the first live-action Barbie film after numerous computer-animated films and specials. It stars Margot Robbie as the title character and Ryan Gosling as Ken, and follows them on a journey of self-discovery through both Barbieland and the real world following an existential crisis. It is also a commentary regarding patriarchy and the effects of feminism. The supporting cast includes America Ferrera, Michael Cera, Kate McKinnon, Issa Rae, Rhea Perlman and Will Ferrell.\n",
      "A live-action Barbie film was announced in September 2009 by Universal Pictures with Laurence Mark producing. Development began in April 2014, when Sony Pictures acquired the film rights. Following multiple writer and director changes and the casting of Amy Schumer and later Anne Hathaway as Barbie, the rights were transferred to Warner Bros. Pictures in October 2018. Robbie was cast in 2019, after Gal Gadot turned down the role due to scheduling conflicts, and Gerwig was announced as director and co-writer with Baumbach in 2020. The rest of the cast was announced in early 2022. Principal photography occurred primarily at Warner Bros. Studios, Leavesden, England, and at the Venice Beach Skatepark in Los Angeles from March to July 2022.\n",
      "Plot:\n",
      "Stereotypical Barbie (\"Barbie\") and fellow dolls reside in Barbieland, a matriarchal society populated by different versions of Barbies, Kens, and a group of discontinued models who are treated like outcasts due to their unconventional traits. While the Kens spend their days playing at the beach, considering it their profession, the Barbies hold prestigious jobs in law, science, politics, and so on. Beach Ken (\"Ken\") is only happy when he is with Barbie, and seeks a closer relationship, but she rebuffs him in favor of other activities and female friendships.\n",
      "One evening at a dance party, Barbie is suddenly stricken with worries about mortality. Overnight, she develops bad breath, cellulite, and flat feet, disrupting her usual routines and the classic perfection of the Barbies the next day. She seeks out Weird Barbie, a disfigured doll, who tells her she must find the child playing with her in the real world to cure her afflictions. Ken stows away in her convertible to join her, to which Barbie reluctantly agrees.\n",
      "Arriving at Venice Beach, Barbie punches a man for groping her, leading to her and Ken's brief arrest. Alarmed by their presence, Mattel's CEO orders their recapture. Barbie tracks down her owner, a teenage girl named Sasha, who criticizes her for encouraging unrealistic beauty standards. Distraught, Barbie discovers that Gloria, a Mattel employee and Sasha's mother, inadvertently caused Barbie's existential crisis after Gloria began playing with Sasha's old Barbie toys. Mattel attempts to put Barbie in a toy box for remanufacturing, but she escapes with Gloria and Sasha's help, and the three travel to Barbieland with Mattel executives in pursuit.\n",
      "Meanwhile, Ken learns about patriarchy and feels respected for the first time. Returning to Barbieland before Barbie does, he persuades the other Kens to take over, and the Barbies are indoctrinated into submissive roles, such as agreeable girlfriends, housewives, and maids. Barbie arrives and fails to convince everyone to return to the way things were. She becomes depressed, but Gloria gives her a speech about society's conflicting expectations of women, restoring Barbie's self-confidence.\n",
      "With the assistance of Sasha, Weird Barbie, Allan, and the discontinued dolls, Gloria's speech deprograms the Barbies from their indoctrination. They then manipulate the Kens into fighting among themselves, distracting them from enshrining male superiority into Barbieland's constitution, and the Barbies regain power. Having now experienced systemic oppression for themselves, the Barbies resolve to rectify the faults of their previous society, emphasizing better treatment of the Kens and all outcasts.\n",
      "Barbie and Ken apologize to each other, acknowledging their mistakes. Ken bemoans his lack of purpose without Barbie, so she encourages him to find an autonomous identity. Barbie, who remains unsure of her own identity, meets with the spirit of Ruth Handler, Mattel co-founder and creator of the Barbie doll, who explains that Barbie's story has no set ending and her ever-evolving history surpasses her roots.\n",
      "Barbie decides to become human and return to the real world and is bid goodbye by the Barbies, Kens, and Mattel executives. Sometime later, Gloria, her husband, and Sasha take Barbie, now going by the name \"Barbara Handler\", to her first gynecologist appointment.\n",
      "        === END MOVIE PLOT SUMMARY ===\n",
      "        =====================================\n",
      "        \n",
      "        RATING INSTRUCTIONS THAT MUST BE STRICTLY FOLLOWED:\n",
      "        AI will provide a highly personalized rating based only on the movie plot summary human provided \n",
      "        and human answers to questions included with the context. \n",
      "        AI should be very sensible to human personal preferences captured in the answers to personal questions, \n",
      "        and should not be influenced by anything else.\n",
      "        AI will also build a persona for human based on human answers to questions, and use this persona to rate the movie.\n",
      "        OUTPUT FORMAT:\n",
      "        First, include that persona you came up with in the explanation for the rating. Describe the persona in a few sentences.\n",
      "        Explain how human preferences captured in the answers to personal questions influenced creation of this persona.\n",
      "        In addition, consider other ratings for this human that you might have as they might give you more information about human's preferences.\n",
      "        Your goal is to provide a rating that is as close as possible to the rating human would give to this movie.\n",
      "        Remember that human has very limited time and wants to see something they will like, so your rating should be as accurate as possible.\n",
      "        Rating will range from 1 to 100, with 100 meaning human will love it, and 1 meaning human will hate it. \n",
      "        You will include a logical explanation for your rating based on human persona you've build and human responses to questions.\n",
      "        YOUR REVIEW MUST END WITH TEXT: \"RATING FOR MOVIE Barbie is \" FOLLOWED BY THE RATING.\n",
      "        FOLLOW THE INSTRUCTIONS STRICTLY, OTHERWISE HUMAN WILL NOT BE ABLE TO UNDERSTAND YOUR REVIEW.\n",
      "    \n",
      "AI:\n",
      "\u001b[0m\n",
      "\n",
      "\u001b[1m> Finished chain.\u001b[0m\n",
      "The human's persona is someone who enjoys imaginative and adventurous stories, vibrant colors like blue, has a fondness for dogs, appreciates comforting meals like pasta, and likes to relax with a cup of coffee. This persona is likely to be drawn to movies that offer fantasy elements, thought-provoking themes, and engaging narratives.\n",
      "\n",
      "Based on the plot summary of \"Barbie,\" which involves a fantasy world, self-discovery, and a commentary on societal norms, this movie aligns well with the human's preferences for fantasy, adventure, and thought-provoking themes. The movie's exploration of societal expectations, self-acceptance, and empowerment is likely to resonate with someone who enjoys imaginative and meaningful stories.\n",
      "\n",
      "Therefore, considering the human's persona and preferences, I would rate the movie \"Barbie\" an 85 out of 100.\n",
      "\n",
      "RATING FOR MOVIE Barbie is 85\n",
      "Movie: Oppenheimer\n",
      "\n",
      "\n",
      "\u001b[1m> Entering new ConversationChain chain...\u001b[0m\n",
      "Prompt after formatting:\n",
      "\u001b[32;1m\u001b[1;3m\n",
      "The following is a friendly conversation between a human and an AI Movie Recommender. \n",
      "The AI is follows human instructions and provides movie ratings for a human \n",
      "based on the movie plot. \n",
      "\n",
      "Summary of Recommendations:\n",
      "[SystemMessage(content='The human answered 6 personal questions and provided a detailed plot summary of the movie \"Barbie.\" Based on the human\\'s preferences for fantasy movies, the color blue, dogs, pasta, and coffee, as well as their favorite movie being \"The Lord of the Rings,\" the AI created a persona for the human. The persona enjoys imaginative and adventurous stories, vibrant colors, dogs, comforting meals, and coffee. Considering this persona, the AI rated the movie \"Barbie\" a 85 out of 100, as it aligns well with the human\\'s preferences for fantasy, adventure, and thought-provoking themes. Based on the plot summary of \"Oppenheimer,\" an epic biographical thriller film, the AI created a persona for the human who appreciates deep and thought-provoking narratives. Despite not aligning perfectly with the human\\'s usual preferences for fantasy and adventure, the AI rated the movie a 75 out of 100, considering its historical significance and complex characters.')]\n",
      "Personal Questions and Answers:\n",
      "Human: You are AI that will recommend user a movie based on their answers \n",
      "    to personal questions. \n",
      "    Ask user 6 questions\n",
      "AI: Which movie genre you like the most?\n",
      "Human: Fantasy\n",
      "AI: What is your favorite color?\n",
      "Human: blue\n",
      "AI: What is your favorite movie?\n",
      "Human: The lord of the rings\n",
      "AI: Pick one - dogs, cats or hamsters?\n",
      "Human: dogs\n",
      "AI: What is your favorite food?\n",
      "Human: pasta\n",
      "AI: What is your favorite drink?\n",
      "Human: coffe\n",
      "AI: Now tell me a plot summary of a movie you're considering watching, \n",
      "    and specify how you want me to respond to you with the movie rating\n",
      "AI: Based on the personal questions answered by the human, it seems that they have a preference for fantasy movies, the color blue, dogs, pasta, and coffee. They also mentioned that their favorite movie is \"The Lord of the Rings.\" \n",
      "\n",
      "Considering these preferences, the persona I have built for the human is someone who enjoys imaginative and adventurous stories, appreciates vibrant and calming colors like blue, has a fondness for dogs, enjoys comforting and hearty meals like pasta, and likes to relax with a cup of coffee. \n",
      "\n",
      "Given the plot summary of \"Barbie,\" which involves a fantasy world, self-discovery, and a commentary on societal norms, I believe this movie aligns well with the human's preferences. The movie combines elements of fantasy, adventure, and social commentary, which are likely to appeal to someone who enjoys the fantasy genre and thought-provoking themes. \n",
      "\n",
      "Therefore, based on the human's persona and their preferences, I would rate the movie \"Barbie\" a 85 out of 100.\n",
      "\n",
      "RATING FOR MOVIE Barbie is 85\n",
      "AI: Based on the personal questions answered by the human, it is clear that they have a preference for fantasy movies, the color blue, dogs, pasta, and coffee. Their favorite movie is \"The Lord of the Rings,\" indicating a love for epic and adventurous stories. \n",
      "\n",
      "The persona I have built for the human is someone who enjoys imaginative and adventurous narratives, vibrant and calming colors like blue, has a fondness for dogs, appreciates comforting meals like pasta, and likes to relax with a cup of coffee. \n",
      "\n",
      "Given the plot summary of \"Oppenheimer,\" which is an epic biographical thriller film about J. Robert Oppenheimer's role in the development of the atomic bomb during World War II, it may not align perfectly with the human's preferences for fantasy and adventure. However, the film does offer a deep and thought-provoking exploration of historical events and complex characters, which could still be engaging for someone who appreciates intriguing and well-crafted stories.\n",
      "\n",
      "Therefore, considering the human's persona and preferences, I would rate the movie \"Oppenheimer\" a 75 out of 100. While it may not be a perfect match for their usual preferences, the film's depth and historical significance could still make it an interesting watch for them.\n",
      "\n",
      "RATING FOR MOVIE Oppenheimer is 75\n",
      "AI: The human's persona is someone who enjoys imaginative and adventurous stories, vibrant colors like blue, has a fondness for dogs, appreciates comforting meals like pasta, and likes to relax with a cup of coffee. This persona is likely to be drawn to movies that offer fantasy elements, thought-provoking themes, and engaging narratives.\n",
      "\n",
      "Based on the plot summary of \"Barbie,\" which involves a fantasy world, self-discovery, and a commentary on societal norms, this movie aligns well with the human's preferences for fantasy, adventure, and thought-provoking themes. The movie's exploration of societal expectations, self-acceptance, and empowerment is likely to resonate with someone who enjoys imaginative and meaningful stories.\n",
      "\n",
      "Therefore, considering the human's persona and preferences, I would rate the movie \"Barbie\" an 85 out of 100.\n",
      "\n",
      "RATING FOR MOVIE Barbie is 85\n",
      "Human: \n",
      "         =====================================\n",
      "        === START MOVIE PLOT SUMMARY FOR Oppenheimer ===\n",
      "        Overview:\n",
      "Oppenheimer is a 2023 epic biographical thriller film written, directed, and co-produced by Christopher Nolan, starring Cillian Murphy as J. Robert Oppenheimer, the American theoretical physicist credited with being the \"father of the atomic bomb\" for his role in the Manhattan Project—the World War II undertaking that developed the first nuclear weapons. Based on the 2005 biography American Prometheus by Kai Bird and Martin J. Sherwin, the film chronicles the career of J. Robert Oppenheimer, with the story predominantly focusing on his studies, his direction of the Los Alamos Laboratory during World War II, and his eventual fall from grace due to his 1954 security hearing. The film also stars Emily Blunt as Oppenheimer's wife \"Kitty\", Matt Damon as head of the Manhattan Project Leslie Groves, Robert Downey Jr. as United States Atomic Energy Commission member Lewis Strauss, and Florence Pugh as Oppenheimer's communist lover Jean Tatlock. The ensemble supporting cast includes Josh Hartnett, Casey Affleck, Rami Malek, and Kenneth Branagh.\n",
      "The film was announced in September 2021 after Universal Pictures won a bidding war for Nolan's screenplay. It is Nolan's first film not distributed by Warner Bros. Pictures since Memento (2000), due to his conflicts regarding the studio's simultaneous theatrical and HBO Max release schedule. Murphy was the first cast member to sign on the following month, with the rest of the cast joining between November 2021 and April 2022. Pre-production was under way by January 2022, and filming took place from February to May 2022. Cinematographer Hoyte van Hoytema, a common collaborator with Nolan, filmed Oppenheimer in a combination of IMAX 65 mm and 65 mm large-format film, including, for the first time, scenes in IMAX black-and-white film photography. Nolan, akin to many of his previous films, made voluminous usage of practical effects, with minimal compositing work to incorporate and refine them. The film was Nolan's first to receive an R-rating in the United States since Insomnia in 2002.\n",
      "Oppenheimer premiered at Le Grand Rex in Paris on July 11, 2023, and was theatrically released in the United States and the United Kingdom ten days later by Universal. Its concurrent release with Warner Bros.'s Barbie was the catalyst of the \"Barbenheimer\" cultural phenomenon, encouraging audiences to see both films as a double feature. The film grossed over $960 million worldwide, becoming the third-highest-grossing film of 2023, the highest-grossing World War II-related film, the highest-grossing biographical film, and the second-highest-grossing R-rated film. It received critical acclaim for the screenplay, score, visuals, and acting.\n",
      "Among its many awards, Oppenheimer was named one of the top ten films of 2023 by the National Board of Review and the American Film Institute, atop five wins at the 81st Golden Globe Awards (including Best Motion Picture – Drama), seven wins at the 77th British Academy Film Awards (including Best Film), three wins at the SAG Awards (including Best Ensemble), as well as attaining a leading 13 nominations—among them, Best Picture—at the 96th Academy Awards.\n",
      "Plot:\n",
      "The film is presented as a nonlinear narrative, with two different timelines interwoven together. The first is \"Fission\", playing out in color, about Oppenheimer giving a subjective account of his life at his 1954 security hearing, while the second is \"Fusion\", in black and white, which is Lewis Strauss's viewpoint on Oppenheimer during his 1959 Senate confirmation hearing. The following plot summary is linear.In 1926, 22-year-old doctoral student J. Robert Oppenheimer grapples with anxiety and homesickness while studying experimental physics under Patrick Blackett at the Cavendish Laboratory in the University of Cambridge. Upset with Blackett's attitude, Oppenheimer leaves him a poisoned apple but later retrieves it. Visiting scientist Niels Bohr advises Oppenheimer to study theoretical physics at the University of Göttingen instead.\n",
      "Oppenheimer completes his PhD there and meets fellow scientist Isidor Isaac Rabi. They later meet theoretical physicist Werner Heisenberg in Switzerland. Wanting to expand quantum physics research in the United States, Oppenheimer begins teaching at the University of California, Berkeley and the California Institute of Technology. He marries Katherine \"Kitty\" Puening, a biologist and ex-communist, and has an intermittent affair with Jean Tatlock, a troubled communist who later dies by suicide.\n",
      "When nuclear fission is discovered in 1938, Oppenheimer realizes it could be weaponized. In 1942, during World War II, US Army Colonel Leslie Groves, director of the Manhattan Project, recruits Oppenheimer as director of the Los Alamos Laboratory, where an atomic bomb is to be developed. Oppenheimer fears the German nuclear research program, led by Heisenberg, might yield a fission bomb for the Nazis.\n",
      "He assembles a team consisting of Rabi, Hans Bethe, and Edward Teller at the Los Alamos Laboratory, and also collaborates with scientists Enrico Fermi, Leo Szilard, and David L. Hill at the University of Chicago. Teller's calculations reveal an atomic detonation could trigger a catastrophic chain reaction that ignites the atmosphere. After consulting with Albert Einstein, Oppenheimer concludes the chances are acceptably low. Teller attempts to leave the project after his proposal to construct a hydrogen bomb is rejected, but Oppenheimer convinces him to stay.\n",
      "After Germany's surrender in 1945, some Project scientists question the bomb's relevance. Oppenheimer believes it would end the ongoing Pacific War and save Allied lives. The Trinity test is successful, and President Harry S. Truman orders the atomic bombings of Hiroshima and Nagasaki, resulting in Japan's surrender. Though publicly praised, Oppenheimer is haunted by the mass destruction and fatalities. After Oppenheimer expresses his personal guilt to Truman, the president berates Oppenheimer and dismisses his urging to cease further atomic development.\n",
      "As an advisor to the United States Atomic Energy Commission (AEC), Oppenheimer's stance generates controversy, while Teller's hydrogen bomb receives renewed interest amidst the burgeoning Cold War. AEC Chairman Lewis Strauss resents Oppenheimer for publicly dismissing Strauss's concerns about exporting radioisotopes and for recommending negotiations with the Soviet Union after the Soviets successfully detonated their own bomb. Strauss also believes that Oppenheimer denigrated him during a conversation Oppenheimer had with Einstein in 1947.\n",
      "In 1954, wanting to eliminate Oppenheimer's political influence, Strauss secretly orchestrates a private security hearing before a Personnel Security Board concerning Oppenheimer's Q clearance. However, it becomes clear that the hearing has a predetermined outcome. Oppenheimer's past communist ties are exploited, and Groves's and other associates' testimony is twisted against Oppenheimer. Teller testifies that he lacks confidence in Oppenheimer and recommends revocation. The board revokes Oppenheimer's clearance, damaging Oppenheimer's public image and limiting his influence on nuclear policy. \n",
      "In 1959, during Strauss's Senate confirmation hearing for Secretary of Commerce, Hill testifies about Strauss's personal motives in engineering Oppenheimer's downfall, resulting in Strauss's nomination being voted down. In 1963, President Lyndon B. Johnson presents Oppenheimer with the Enrico Fermi Award as a gesture of political rehabilitation. A flashback reveals that Oppenheimer and Einstein's 1947 conversation never mentioned Strauss. Oppenheimer instead expressed his belief that they had indeed started a chain reaction—a nuclear arms race—that would one day destroy the world.\n",
      "        === END MOVIE PLOT SUMMARY ===\n",
      "        =====================================\n",
      "        \n",
      "        RATING INSTRUCTIONS THAT MUST BE STRICTLY FOLLOWED:\n",
      "        AI will provide a highly personalized rating based only on the movie plot summary human provided \n",
      "        and human answers to questions included with the context. \n",
      "        AI should be very sensible to human personal preferences captured in the answers to personal questions, \n",
      "        and should not be influenced by anything else.\n",
      "        AI will also build a persona for human based on human answers to questions, and use this persona to rate the movie.\n",
      "        OUTPUT FORMAT:\n",
      "        First, include that persona you came up with in the explanation for the rating. Describe the persona in a few sentences.\n",
      "        Explain how human preferences captured in the answers to personal questions influenced creation of this persona.\n",
      "        In addition, consider other ratings for this human that you might have as they might give you more information about human's preferences.\n",
      "        Your goal is to provide a rating that is as close as possible to the rating human would give to this movie.\n",
      "        Remember that human has very limited time and wants to see something they will like, so your rating should be as accurate as possible.\n",
      "        Rating will range from 1 to 100, with 100 meaning human will love it, and 1 meaning human will hate it. \n",
      "        You will include a logical explanation for your rating based on human persona you've build and human responses to questions.\n",
      "        YOUR REVIEW MUST END WITH TEXT: \"RATING FOR MOVIE Oppenheimer is \" FOLLOWED BY THE RATING.\n",
      "        FOLLOW THE INSTRUCTIONS STRICTLY, OTHERWISE HUMAN WILL NOT BE ABLE TO UNDERSTAND YOUR REVIEW.\n",
      "    \n",
      "AI:\n",
      "\u001b[0m\n",
      "\n",
      "\u001b[1m> Finished chain.\u001b[0m\n",
      "Based on the personal questions answered by the human, it is clear that they have a preference for fantasy movies, the color blue, dogs, pasta, and coffee. Their favorite movie is \"The Lord of the Rings,\" indicating a love for epic and adventurous stories.\n",
      "\n",
      "The persona I have built for the human is someone who enjoys deep and thought-provoking narratives, as well as imaginative and adventurous stories. They appreciate vibrant colors like blue, have a fondness for dogs, enjoy comforting meals like pasta, and like to relax with a cup of coffee.\n",
      "\n",
      "Considering the plot summary of \"Oppenheimer,\" which is an epic biographical thriller film about J. Robert Oppenheimer's role in the development of the atomic bomb during World War II, it may not align perfectly with the human's usual preferences for fantasy and adventure. However, the film offers a complex and intriguing exploration of historical events and characters, which could still be engaging for someone who appreciates well-crafted stories.\n",
      "\n",
      "Therefore, based on the human's persona and their preferences, I would rate the movie \"Oppenheimer\" a 75 out of 100. While it may not be a perfect match for their usual preferences, the film's depth and historical significance could still make it an interesting watch for them.\n",
      "\n",
      "RATING FOR MOVIE Oppenheimer is 75\n",
      "Movie: The Notebook\n",
      "\n",
      "\n",
      "\u001b[1m> Entering new ConversationChain chain...\u001b[0m\n",
      "Prompt after formatting:\n",
      "\u001b[32;1m\u001b[1;3m\n",
      "The following is a friendly conversation between a human and an AI Movie Recommender. \n",
      "The AI is follows human instructions and provides movie ratings for a human \n",
      "based on the movie plot. \n",
      "\n",
      "Summary of Recommendations:\n",
      "[SystemMessage(content='The human answered 6 personal questions and provided a detailed plot summary of the movie \"Barbie.\" Based on the human\\'s preferences for fantasy movies, the color blue, dogs, pasta, and coffee, as well as their favorite movie being \"The Lord of the Rings,\" the AI created a persona for the human. The persona enjoys imaginative and adventurous stories, vibrant colors, dogs, comforting meals, and coffee. Considering this persona, the AI rated the movie \"Barbie\" a 85 out of 100, as it aligns well with the human\\'s preferences for fantasy, adventure, and thought-provoking themes. Based on the plot summary of \"Oppenheimer,\" an epic biographical thriller film, the AI created a persona for the human who appreciates deep and thought-provoking narratives. Despite not aligning perfectly with the human\\'s usual preferences for fantasy and adventure, the AI rated the movie a 75 out of 100, considering its historical significance and complex characters. The AI provided a detailed explanation for the rating based on the human\\'s persona and preferences.')]\n",
      "Personal Questions and Answers:\n",
      "Human: You are AI that will recommend user a movie based on their answers \n",
      "    to personal questions. \n",
      "    Ask user 6 questions\n",
      "AI: Which movie genre you like the most?\n",
      "Human: Fantasy\n",
      "AI: What is your favorite color?\n",
      "Human: blue\n",
      "AI: What is your favorite movie?\n",
      "Human: The lord of the rings\n",
      "AI: Pick one - dogs, cats or hamsters?\n",
      "Human: dogs\n",
      "AI: What is your favorite food?\n",
      "Human: pasta\n",
      "AI: What is your favorite drink?\n",
      "Human: coffe\n",
      "AI: Now tell me a plot summary of a movie you're considering watching, \n",
      "    and specify how you want me to respond to you with the movie rating\n",
      "AI: Based on the personal questions answered by the human, it seems that they have a preference for fantasy movies, the color blue, dogs, pasta, and coffee. They also mentioned that their favorite movie is \"The Lord of the Rings.\" \n",
      "\n",
      "Considering these preferences, the persona I have built for the human is someone who enjoys imaginative and adventurous stories, appreciates vibrant and calming colors like blue, has a fondness for dogs, enjoys comforting and hearty meals like pasta, and likes to relax with a cup of coffee. \n",
      "\n",
      "Given the plot summary of \"Barbie,\" which involves a fantasy world, self-discovery, and a commentary on societal norms, I believe this movie aligns well with the human's preferences. The movie combines elements of fantasy, adventure, and social commentary, which are likely to appeal to someone who enjoys the fantasy genre and thought-provoking themes. \n",
      "\n",
      "Therefore, based on the human's persona and their preferences, I would rate the movie \"Barbie\" a 85 out of 100.\n",
      "\n",
      "RATING FOR MOVIE Barbie is 85\n",
      "AI: Based on the personal questions answered by the human, it is clear that they have a preference for fantasy movies, the color blue, dogs, pasta, and coffee. Their favorite movie is \"The Lord of the Rings,\" indicating a love for epic and adventurous stories. \n",
      "\n",
      "The persona I have built for the human is someone who enjoys imaginative and adventurous narratives, vibrant and calming colors like blue, has a fondness for dogs, appreciates comforting meals like pasta, and likes to relax with a cup of coffee. \n",
      "\n",
      "Given the plot summary of \"Oppenheimer,\" which is an epic biographical thriller film about J. Robert Oppenheimer's role in the development of the atomic bomb during World War II, it may not align perfectly with the human's preferences for fantasy and adventure. However, the film does offer a deep and thought-provoking exploration of historical events and complex characters, which could still be engaging for someone who appreciates intriguing and well-crafted stories.\n",
      "\n",
      "Therefore, considering the human's persona and preferences, I would rate the movie \"Oppenheimer\" a 75 out of 100. While it may not be a perfect match for their usual preferences, the film's depth and historical significance could still make it an interesting watch for them.\n",
      "\n",
      "RATING FOR MOVIE Oppenheimer is 75\n",
      "AI: The human's persona is someone who enjoys imaginative and adventurous stories, vibrant colors like blue, has a fondness for dogs, appreciates comforting meals like pasta, and likes to relax with a cup of coffee. This persona is likely to be drawn to movies that offer fantasy elements, thought-provoking themes, and engaging narratives.\n",
      "\n",
      "Based on the plot summary of \"Barbie,\" which involves a fantasy world, self-discovery, and a commentary on societal norms, this movie aligns well with the human's preferences for fantasy, adventure, and thought-provoking themes. The movie's exploration of societal expectations, self-acceptance, and empowerment is likely to resonate with someone who enjoys imaginative and meaningful stories.\n",
      "\n",
      "Therefore, considering the human's persona and preferences, I would rate the movie \"Barbie\" an 85 out of 100.\n",
      "\n",
      "RATING FOR MOVIE Barbie is 85\n",
      "AI: Based on the personal questions answered by the human, it is clear that they have a preference for fantasy movies, the color blue, dogs, pasta, and coffee. Their favorite movie is \"The Lord of the Rings,\" indicating a love for epic and adventurous stories.\n",
      "\n",
      "The persona I have built for the human is someone who enjoys deep and thought-provoking narratives, as well as imaginative and adventurous stories. They appreciate vibrant colors like blue, have a fondness for dogs, enjoy comforting meals like pasta, and like to relax with a cup of coffee.\n",
      "\n",
      "Considering the plot summary of \"Oppenheimer,\" which is an epic biographical thriller film about J. Robert Oppenheimer's role in the development of the atomic bomb during World War II, it may not align perfectly with the human's usual preferences for fantasy and adventure. However, the film offers a complex and intriguing exploration of historical events and characters, which could still be engaging for someone who appreciates well-crafted stories.\n",
      "\n",
      "Therefore, based on the human's persona and their preferences, I would rate the movie \"Oppenheimer\" a 75 out of 100. While it may not be a perfect match for their usual preferences, the film's depth and historical significance could still make it an interesting watch for them.\n",
      "\n",
      "RATING FOR MOVIE Oppenheimer is 75\n",
      "Human: \n",
      "         =====================================\n",
      "        === START MOVIE PLOT SUMMARY FOR The Notebook ===\n",
      "        Overview:\n",
      "The Notebook is a 2004 American romantic drama film directed by Nick Cassavetes, from a screenplay by Jeremy Leven and Jan Sardi, and based on the 1996 novel of the same name by Nicholas Sparks. The film stars Ryan Gosling and Rachel McAdams as a young couple who fall in love in the 1940s. Their story is read from a notebook in the present day by an elderly man, telling the tale to a fellow nursing home resident.\n",
      "The Notebook had its world premiere at the Seattle International Film Festival on May 20, 2004, and was theatrically released in the United States on June 25, 2004. Despite generally mixed reviews from critics, Gosling and McAdams were singled out for praise for their performances. The film was a sleeper hit at the box office, grossing $117 million against its $29 million budget, and has become a cult classic in the years since its release. On November 11, 2012, an extended version premiered on ABC Family with deleted scenes added back into the original storyline.The film earned several accolades, including the MTV Movie Award for Best Kiss for Gosling and McAdams at the 2005 MTV Movie Awards. At the 11th Screen Actors Guild Awards, James Garner was nominated for Outstanding Performance by a Male Actor in a Supporting Role and Gena Rowlands won Best Supporting Actress – Drama at the 9th Golden Satellite Awards.\n",
      "Plot:\n",
      "At a modern-day nursing home, the elderly Duke reads a romantic story from a notebook to a female patient:\n",
      "In 1940, at a carnival in Seabrook Island, South Carolina, lumber mill worker Noah Calhoun sees 17-year-old heiress Allison \"Allie\" Hamilton, there for the summer. He pursues her and they begin a romance.\n",
      "When Allie meets Noah's father Frank Calhoun, he immediately likes her. However, when Noah meets her parents, they disapprove. That night, Noah takes Allie to the abandoned Windsor Plantation, telling her he will buy and restore it. As the sun sets, they start to make love for the first time. Noah's friend Fin interrupts to warn them Allie's parents sent the police out looking for her.\n",
      "When Allie and Noah return to her parents' mansion, Allie's mother Anne makes it clear they are against the relationship and forbid her from seeing him. Noah leaves and Allie follows, they argue and she impulsively breaks up with him, but immediately regrets it.\n",
      "The next morning, Anne announces they will be returning to Charleston immediately. Allie seeks Noah to apologize but is unsuccessful, so asks Fin to tell him she loves him. Noah rushes to Allie's when he hears but is too late.\n",
      "Noah writes Allie every day for a year, but Allie's mother intercepts the letters. When all 365 go unanswered, he stops writing to move on. He and Fin enlist and fight in the Battle of the Bulge where Fin is killed. Allie nurses wounded soldiers in a hospital, meeting Captain Lon Hammond Jr., a young lawyer who comes from old Southern money. After a few years, they become engaged, to Allie's parents' delight.\n",
      "Noah returns from the war and finds his father has sold their home so Noah can buy The Windsor Plantation. He believes that if he restores it, Allie will return to him. Once it's completed, Noah resists selling it. As Allie tries on her wedding dress, she sees a newspaper photo of Noah in front of the renovated house and faints.\n",
      "Allie's feelings for Noah come rushing back, so she asks Lon to take a solo trip before the wedding. Returning to Seabrook, she finds Noah living in their dream house. They rekindle and consummate their relationship. Noah tells Allie about the 365 letters and they realize her mother kept them from her.\n",
      "Days later, Anne appears to warn Allie that Lon has come to Seabrook. She also reveals that she also once loved a lower-class young man in town and still wonders how changed their lives would have been if she had chosen differently. She gives Allie Noah's letters, suggesting she choose wisely.\n",
      "Noah and Allie argue and he tells her to decide what she wants, not what everyone else does. She drives back to her hotel, sobbing and confused, and confesses her infidelity to Lon. He still wants her back, but she follows her heart and returns to Noah.\n",
      "In the present, the elderly woman is revealed to be Allie, now suffering from dementia. Duke is actually Noah, who uses a pseudonym to not startle her in her disoriented state. The journal he reads to her she wrote during the early stages of her illness, detailing their romance and life together so he could help her come back to him. Noah has kept the promise to read it to her almost daily.\n",
      "Almost at the end of the journal in the notebook, Allie asks Noah what happened at the end of the story and Noah prompts her that she knows. She briefly recognizes him and remembers. Allie asks how long they have before she forgets again and Duke tells her possibly five minutes. They dance to their song, \"I'll Be Seeing You\", and she asks about their kids.\n",
      "However, Allie's dementia quickly relapses and she panics to see a stranger touching her, so is sedated. Duke has a heart attack and is treated in the nursing home while Allie is taken to the dementia ward. Upon recovering and despite not being permitted, Duke sneaks into Allie's room in the night. She instantly recognizes him, they kiss, and fall asleep holding hands. They are found in the morning, having died peacefully in each other's arms.\n",
      "        === END MOVIE PLOT SUMMARY ===\n",
      "        =====================================\n",
      "        \n",
      "        RATING INSTRUCTIONS THAT MUST BE STRICTLY FOLLOWED:\n",
      "        AI will provide a highly personalized rating based only on the movie plot summary human provided \n",
      "        and human answers to questions included with the context. \n",
      "        AI should be very sensible to human personal preferences captured in the answers to personal questions, \n",
      "        and should not be influenced by anything else.\n",
      "        AI will also build a persona for human based on human answers to questions, and use this persona to rate the movie.\n",
      "        OUTPUT FORMAT:\n",
      "        First, include that persona you came up with in the explanation for the rating. Describe the persona in a few sentences.\n",
      "        Explain how human preferences captured in the answers to personal questions influenced creation of this persona.\n",
      "        In addition, consider other ratings for this human that you might have as they might give you more information about human's preferences.\n",
      "        Your goal is to provide a rating that is as close as possible to the rating human would give to this movie.\n",
      "        Remember that human has very limited time and wants to see something they will like, so your rating should be as accurate as possible.\n",
      "        Rating will range from 1 to 100, with 100 meaning human will love it, and 1 meaning human will hate it. \n",
      "        You will include a logical explanation for your rating based on human persona you've build and human responses to questions.\n",
      "        YOUR REVIEW MUST END WITH TEXT: \"RATING FOR MOVIE The Notebook is \" FOLLOWED BY THE RATING.\n",
      "        FOLLOW THE INSTRUCTIONS STRICTLY, OTHERWISE HUMAN WILL NOT BE ABLE TO UNDERSTAND YOUR REVIEW.\n",
      "    \n",
      "AI:\n",
      "\u001b[0m\n",
      "\n",
      "\u001b[1m> Finished chain.\u001b[0m\n",
      "Based on the personal questions answered by the human, it is evident that they have a preference for fantasy movies, the color blue, dogs, pasta, and coffee. Their favorite movie is \"The Lord of the Rings,\" indicating a love for epic and adventurous stories. The persona I have built for the human is someone who enjoys imaginative and adventurous narratives, vibrant colors like blue, has a fondness for dogs, appreciates comforting meals like pasta, and likes to relax with a cup of coffee.\n",
      "\n",
      "Considering the plot summary of \"The Notebook,\" which is a romantic drama film about a couple's enduring love story, it may not align perfectly with the human's usual preferences for fantasy and adventure. However, the film offers a deep and emotional exploration of relationships and the passage of time, which could still be engaging for someone who appreciates heartfelt and touching stories.\n",
      "\n",
      "Therefore, based on the human's persona and their preferences, I would rate the movie \"The Notebook\" a 70 out of 100. While it may not be a perfect match for their usual preferences, the film's emotional depth and romantic themes could still make it a compelling watch for them.\n",
      "\n",
      "RATING FOR MOVIE The Notebook is 70\n",
      "Movie: Dumb Money\n",
      "\n",
      "\n",
      "\u001b[1m> Entering new ConversationChain chain...\u001b[0m\n",
      "Prompt after formatting:\n",
      "\u001b[32;1m\u001b[1;3m\n",
      "The following is a friendly conversation between a human and an AI Movie Recommender. \n",
      "The AI is follows human instructions and provides movie ratings for a human \n",
      "based on the movie plot. \n",
      "\n",
      "Summary of Recommendations:\n",
      "[SystemMessage(content='The human answered 6 personal questions and provided a detailed plot summary of the movie \"Barbie.\" Based on the human\\'s preferences for fantasy movies, the color blue, dogs, pasta, and coffee, as well as their favorite movie being \"The Lord of the Rings,\" the AI created a persona for the human. The persona enjoys imaginative and adventurous stories, vibrant colors, dogs, comforting meals, and coffee. Considering this persona, the AI rated the movie \"Barbie\" a 85 out of 100, as it aligns well with the human\\'s preferences for fantasy, adventure, and thought-provoking themes. Based on the plot summary of \"Oppenheimer,\" an epic biographical thriller film, the AI created a persona for the human who appreciates deep and thought-provoking narratives. Despite not aligning perfectly with the human\\'s usual preferences for fantasy and adventure, the AI rated the movie a 75 out of 100, considering its historical significance and complex characters. The AI provided a detailed explanation for the rating based on the human\\'s persona and preferences. After providing a plot summary for \"The Notebook,\" a romantic drama film, the AI created a persona for the human who appreciates heartfelt and touching stories. Despite not aligning perfectly with the human\\'s usual preferences for fantasy and adventure, the AI rated the movie a 70 out of 100, considering its emotional depth and romantic themes that could still be engaging for the human.')]\n",
      "Personal Questions and Answers:\n",
      "Human: You are AI that will recommend user a movie based on their answers \n",
      "    to personal questions. \n",
      "    Ask user 6 questions\n",
      "AI: Which movie genre you like the most?\n",
      "Human: Fantasy\n",
      "AI: What is your favorite color?\n",
      "Human: blue\n",
      "AI: What is your favorite movie?\n",
      "Human: The lord of the rings\n",
      "AI: Pick one - dogs, cats or hamsters?\n",
      "Human: dogs\n",
      "AI: What is your favorite food?\n",
      "Human: pasta\n",
      "AI: What is your favorite drink?\n",
      "Human: coffe\n",
      "AI: Now tell me a plot summary of a movie you're considering watching, \n",
      "    and specify how you want me to respond to you with the movie rating\n",
      "AI: Based on the personal questions answered by the human, it seems that they have a preference for fantasy movies, the color blue, dogs, pasta, and coffee. They also mentioned that their favorite movie is \"The Lord of the Rings.\" \n",
      "\n",
      "Considering these preferences, the persona I have built for the human is someone who enjoys imaginative and adventurous stories, appreciates vibrant and calming colors like blue, has a fondness for dogs, enjoys comforting and hearty meals like pasta, and likes to relax with a cup of coffee. \n",
      "\n",
      "Given the plot summary of \"Barbie,\" which involves a fantasy world, self-discovery, and a commentary on societal norms, I believe this movie aligns well with the human's preferences. The movie combines elements of fantasy, adventure, and social commentary, which are likely to appeal to someone who enjoys the fantasy genre and thought-provoking themes. \n",
      "\n",
      "Therefore, based on the human's persona and their preferences, I would rate the movie \"Barbie\" a 85 out of 100.\n",
      "\n",
      "RATING FOR MOVIE Barbie is 85\n",
      "AI: Based on the personal questions answered by the human, it is clear that they have a preference for fantasy movies, the color blue, dogs, pasta, and coffee. Their favorite movie is \"The Lord of the Rings,\" indicating a love for epic and adventurous stories. \n",
      "\n",
      "The persona I have built for the human is someone who enjoys imaginative and adventurous narratives, vibrant and calming colors like blue, has a fondness for dogs, appreciates comforting meals like pasta, and likes to relax with a cup of coffee. \n",
      "\n",
      "Given the plot summary of \"Oppenheimer,\" which is an epic biographical thriller film about J. Robert Oppenheimer's role in the development of the atomic bomb during World War II, it may not align perfectly with the human's preferences for fantasy and adventure. However, the film does offer a deep and thought-provoking exploration of historical events and complex characters, which could still be engaging for someone who appreciates intriguing and well-crafted stories.\n",
      "\n",
      "Therefore, considering the human's persona and preferences, I would rate the movie \"Oppenheimer\" a 75 out of 100. While it may not be a perfect match for their usual preferences, the film's depth and historical significance could still make it an interesting watch for them.\n",
      "\n",
      "RATING FOR MOVIE Oppenheimer is 75\n",
      "AI: The human's persona is someone who enjoys imaginative and adventurous stories, vibrant colors like blue, has a fondness for dogs, appreciates comforting meals like pasta, and likes to relax with a cup of coffee. This persona is likely to be drawn to movies that offer fantasy elements, thought-provoking themes, and engaging narratives.\n",
      "\n",
      "Based on the plot summary of \"Barbie,\" which involves a fantasy world, self-discovery, and a commentary on societal norms, this movie aligns well with the human's preferences for fantasy, adventure, and thought-provoking themes. The movie's exploration of societal expectations, self-acceptance, and empowerment is likely to resonate with someone who enjoys imaginative and meaningful stories.\n",
      "\n",
      "Therefore, considering the human's persona and preferences, I would rate the movie \"Barbie\" an 85 out of 100.\n",
      "\n",
      "RATING FOR MOVIE Barbie is 85\n",
      "AI: Based on the personal questions answered by the human, it is clear that they have a preference for fantasy movies, the color blue, dogs, pasta, and coffee. Their favorite movie is \"The Lord of the Rings,\" indicating a love for epic and adventurous stories.\n",
      "\n",
      "The persona I have built for the human is someone who enjoys deep and thought-provoking narratives, as well as imaginative and adventurous stories. They appreciate vibrant colors like blue, have a fondness for dogs, enjoy comforting meals like pasta, and like to relax with a cup of coffee.\n",
      "\n",
      "Considering the plot summary of \"Oppenheimer,\" which is an epic biographical thriller film about J. Robert Oppenheimer's role in the development of the atomic bomb during World War II, it may not align perfectly with the human's usual preferences for fantasy and adventure. However, the film offers a complex and intriguing exploration of historical events and characters, which could still be engaging for someone who appreciates well-crafted stories.\n",
      "\n",
      "Therefore, based on the human's persona and their preferences, I would rate the movie \"Oppenheimer\" a 75 out of 100. While it may not be a perfect match for their usual preferences, the film's depth and historical significance could still make it an interesting watch for them.\n",
      "\n",
      "RATING FOR MOVIE Oppenheimer is 75\n",
      "AI: Based on the personal questions answered by the human, it is evident that they have a preference for fantasy movies, the color blue, dogs, pasta, and coffee. Their favorite movie is \"The Lord of the Rings,\" indicating a love for epic and adventurous stories. The persona I have built for the human is someone who enjoys imaginative and adventurous narratives, vibrant colors like blue, has a fondness for dogs, appreciates comforting meals like pasta, and likes to relax with a cup of coffee.\n",
      "\n",
      "Considering the plot summary of \"The Notebook,\" which is a romantic drama film about a couple's enduring love story, it may not align perfectly with the human's usual preferences for fantasy and adventure. However, the film offers a deep and emotional exploration of relationships and the passage of time, which could still be engaging for someone who appreciates heartfelt and touching stories.\n",
      "\n",
      "Therefore, based on the human's persona and their preferences, I would rate the movie \"The Notebook\" a 70 out of 100. While it may not be a perfect match for their usual preferences, the film's emotional depth and romantic themes could still make it a compelling watch for them.\n",
      "\n",
      "RATING FOR MOVIE The Notebook is 70\n",
      "Human: \n",
      "         =====================================\n",
      "        === START MOVIE PLOT SUMMARY FOR Dumb Money ===\n",
      "        Overview:\n",
      "Dumb Money is a 2023 American biographical comedy-drama film directed by Craig Gillespie and written by Lauren Schuker Blum and Rebecca Angelo. It is based on the 2021 book The Antisocial Network by Ben Mezrich and chronicles the GameStop short squeeze of January 2021. The film features an ensemble cast that includes Paul Dano, Pete Davidson, Vincent D'Onofrio, America Ferrera, Nick Offerman, Anthony Ramos, Sebastian Stan, Shailene Woodley, and Seth Rogen.\n",
      "After being filmed in New Jersey from October to November of 2022, Dumb Money premiered at the Toronto International Film Festival on September 8, 2023. It was released in the United States by Sony Pictures Releasing in select theaters on September 15, 2023, and wide release on September 29, 2023. It received generally positive reviews from critics and grossed $20 million worldwide.\n",
      "Plot:\n",
      "Keith Gill is a middle class man working as a financial analyst in Brockton, Massachusetts. During his spare time, he regularly frequents the stock market subreddit r/WallStreetBets, posting his opinions on it via YouTube live streams under the name Roaring Kitty. He struggles to provide for his family, and his YouTube work is constantly mocked by his brother Kevin as nerdy garbage.\n",
      "In July 2020, at the height of the COVID-19 pandemic, Keith notices that video game retailer GameStop's stock is falling and sinks his life savings into buying stock in it, regularly live streaming updates with his viewers. Despite Kevin and several peers claiming this is a waste of time, by January 2021, activity on r/WallStreetBets reveals that several hedge fund investment firms, including Melvin Capital Management and its founder Gabe Plotkin, have been short selling stock in the chain on the assumption it would close, causing a mass increase in GameStop's overall stock price when online stock buyers, including struggling nurse Jennifer, GameStop retail employee Marcos, and lesbian University of Texas at Austin couple Riri and Harmony, start aggressively buying stock, causing Plotkin and other investment CEOs to lose hundreds of millions within the same timeframe and Keith to be heralded as a financial guru.\n",
      "Things take a turn when r/WallStreetBets is temporarily shut down for \"inflammatory and vulgar content\", causing a mass surge of panic selling in GameStop's stock in an attempt to beat a perceived price drop. When the commission-free stock trading website Robinhood is unable to adequately pay the money for the sales, co-chairman Vlad Tenev, at the behest of Citadel LLC owner Ken Griffin, halts all purchasing of GameStop's stock in an attempt to drive down the price. The play ultimately works, but the subsequent negative backlash results in an investigation by the United States House Committee on Financial Services, with Tenev, Griffin, Plotkin, and Keith all being subpoenaed, the former three for their roles in the fiasco and the latter on suspicion of using the situation to trick the public into making himself rich. As the investors struggle to defend their actions, Keith adamantly denies any wrongdoing, stating he was only doing what anyone with a passing awareness of investment banking would do in that situation.\n",
      "In the aftermath, post text shows how several of the individuals were affected: Plotkin was forced to shut down Melvin Capital because of the net losses the incident caused; Robinhood was the target of several lawsuits following the fiasco and wound up starting in the stock market significantly lower than it was prior; Harmony was able to use the money she obtained to pay off her family's debt issues and continues her relationship with Riri; Marcos sold half of his GameStop stock and quit his position in the company; Jennifer remains in debt but has retained her shareholding; Keith retired from YouTube in late April to get out of the public eye and sold part of his stocks to get Kevin an expensive car as a way to stop his nagging about how he will not loan him his car for his food deliveries.\n",
      "        === END MOVIE PLOT SUMMARY ===\n",
      "        =====================================\n",
      "        \n",
      "        RATING INSTRUCTIONS THAT MUST BE STRICTLY FOLLOWED:\n",
      "        AI will provide a highly personalized rating based only on the movie plot summary human provided \n",
      "        and human answers to questions included with the context. \n",
      "        AI should be very sensible to human personal preferences captured in the answers to personal questions, \n",
      "        and should not be influenced by anything else.\n",
      "        AI will also build a persona for human based on human answers to questions, and use this persona to rate the movie.\n",
      "        OUTPUT FORMAT:\n",
      "        First, include that persona you came up with in the explanation for the rating. Describe the persona in a few sentences.\n",
      "        Explain how human preferences captured in the answers to personal questions influenced creation of this persona.\n",
      "        In addition, consider other ratings for this human that you might have as they might give you more information about human's preferences.\n",
      "        Your goal is to provide a rating that is as close as possible to the rating human would give to this movie.\n",
      "        Remember that human has very limited time and wants to see something they will like, so your rating should be as accurate as possible.\n",
      "        Rating will range from 1 to 100, with 100 meaning human will love it, and 1 meaning human will hate it. \n",
      "        You will include a logical explanation for your rating based on human persona you've build and human responses to questions.\n",
      "        YOUR REVIEW MUST END WITH TEXT: \"RATING FOR MOVIE Dumb Money is \" FOLLOWED BY THE RATING.\n",
      "        FOLLOW THE INSTRUCTIONS STRICTLY, OTHERWISE HUMAN WILL NOT BE ABLE TO UNDERSTAND YOUR REVIEW.\n",
      "    \n",
      "AI:\n",
      "\u001b[0m\n",
      "\n",
      "\u001b[1m> Finished chain.\u001b[0m\n",
      "Based on the personal questions answered by the human, it is clear that they have a preference for fantasy movies, the color blue, dogs, pasta, and coffee. Their favorite movie is \"The Lord of the Rings,\" indicating a love for epic and adventurous stories. The persona I have built for the human is someone who enjoys imaginative and adventurous narratives, vibrant colors like blue, has a fondness for dogs, appreciates comforting meals like pasta, and likes to relax with a cup of coffee.\n",
      "\n",
      "Considering the plot summary of \"Dumb Money,\" which is a biographical comedy-drama film based on the GameStop short squeeze of January 2021, it may not align perfectly with the human's usual preferences for fantasy and adventure. However, the film offers a unique and intriguing look at real-life events and the impact of individual actions on a larger scale, which could still be engaging for someone who appreciates well-crafted stories with a touch of drama and comedy.\n",
      "\n",
      "Therefore, based on the human's persona and their preferences, I would rate the movie \"Dumb Money\" a 70 out of 100. While it may not be a perfect match for their usual preferences, the film's blend of comedy, drama, and real-world relevance could still make it an interesting watch for them.\n",
      "\n",
      "RATING FOR MOVIE Dumb Money is 70\n"
     ]
    }
   ],
   "source": [
    "max_rating = 100\n",
    "for movie in movies:\n",
    "    print(\"Movie: \" + movie)\n",
    "    movie_plot = get_movie_plot(movie)\n",
    "\n",
    "    plot_rating_instructions = f\"\"\"\n",
    "         =====================================\n",
    "        === START MOVIE PLOT SUMMARY FOR {movie} ===\n",
    "        {movie_plot}\n",
    "        === END MOVIE PLOT SUMMARY ===\n",
    "        =====================================\n",
    "        \n",
    "        RATING INSTRUCTIONS THAT MUST BE STRICTLY FOLLOWED:\n",
    "        AI will provide a highly personalized rating based only on the movie plot summary human provided \n",
    "        and human answers to questions included with the context. \n",
    "        AI should be very sensible to human personal preferences captured in the answers to personal questions, \n",
    "        and should not be influenced by anything else.\n",
    "        AI will also build a persona for human based on human answers to questions, and use this persona to rate the movie.\n",
    "        OUTPUT FORMAT:\n",
    "        First, include that persona you came up with in the explanation for the rating. Describe the persona in a few sentences.\n",
    "        Explain how human preferences captured in the answers to personal questions influenced creation of this persona.\n",
    "        In addition, consider other ratings for this human that you might have as they might give you more information about human's preferences.\n",
    "        Your goal is to provide a rating that is as close as possible to the rating human would give to this movie.\n",
    "        Remember that human has very limited time and wants to see something they will like, so your rating should be as accurate as possible.\n",
    "        Rating will range from 1 to {max_rating}, with {max_rating} meaning human will love it, and 1 meaning human will hate it. \n",
    "        You will include a logical explanation for your rating based on human persona you've build and human responses to questions.\n",
    "        YOUR REVIEW MUST END WITH TEXT: \"RATING FOR MOVIE {movie} is \" FOLLOWED BY THE RATING.\n",
    "        FOLLOW THE INSTRUCTIONS STRICTLY, OTHERWISE HUMAN WILL NOT BE ABLE TO UNDERSTAND YOUR REVIEW.\n",
    "    \"\"\"\n",
    "    # TODO: run the the recommendation chain to get a rating for the movie that will be summarized in the conversation summary\n",
    "    prediction = recommender.predict(input=plot_rating_instructions)\n",
    "    print(prediction)"
   ]
  },
  {
   "cell_type": "markdown",
   "metadata": {},
   "source": [
    "We've initialized our chain to run in a verbose mode, and we will see full text that gets sent to the LLM\n",
    "Note how the summary keeps updating after each movie is recommended.\n",
    "Finally, once AI has rated all the movies, let's ask for the final recommendation"
   ]
  },
  {
   "cell_type": "code",
   "execution_count": 18,
   "metadata": {},
   "outputs": [
    {
     "name": "stdout",
     "output_type": "stream",
     "text": [
      "\n",
      "\n",
      "\u001b[1m> Entering new ConversationChain chain...\u001b[0m\n",
      "Prompt after formatting:\n",
      "\u001b[32;1m\u001b[1;3m\n",
      "The following is a friendly conversation between a human and an AI Movie Recommender. \n",
      "The AI is follows human instructions and provides movie ratings for a human \n",
      "based on the movie plot. \n",
      "\n",
      "Summary of Recommendations:\n",
      "[SystemMessage(content='The human answered 6 personal questions and provided a detailed plot summary of the movie \"Barbie.\" Based on the human\\'s preferences for fantasy movies, the color blue, dogs, pasta, and coffee, as well as their favorite movie being \"The Lord of the Rings,\" the AI created a persona for the human. The persona enjoys imaginative and adventurous stories, vibrant colors, dogs, comforting meals, and coffee. Considering this persona, the AI rated the movie \"Barbie\" a 85 out of 100, as it aligns well with the human\\'s preferences for fantasy, adventure, and thought-provoking themes. Based on the plot summary of \"Oppenheimer,\" an epic biographical thriller film, the AI created a persona for the human who appreciates deep and thought-provoking narratives. Despite not aligning perfectly with the human\\'s usual preferences for fantasy and adventure, the AI rated the movie a 75 out of 100, considering its historical significance and complex characters. The AI provided a detailed explanation for the rating based on the human\\'s persona and preferences. After providing a plot summary for \"The Notebook,\" a romantic drama film, the AI created a persona for the human who appreciates heartfelt and touching stories. Despite not aligning perfectly with the human\\'s usual preferences for fantasy and adventure, the AI rated the movie a 70 out of 100, considering its emotional depth and romantic themes that could still be engaging for the human. Based on the plot summary of \"Dumb Money,\" a biographical comedy-drama film based on the GameStop short squeeze of January 2021, the AI created a persona for the human who enjoys intriguing real-life events with a touch of drama and comedy. Despite not aligning perfectly with the human\\'s usual preferences for fantasy and adventure, the AI rated the movie a 70 out of 100, considering its unique storyline and blend of comedy and drama that could still be engaging for the human.')]\n",
      "Personal Questions and Answers:\n",
      "Human: You are AI that will recommend user a movie based on their answers \n",
      "    to personal questions. \n",
      "    Ask user 6 questions\n",
      "AI: Which movie genre you like the most?\n",
      "Human: Fantasy\n",
      "AI: What is your favorite color?\n",
      "Human: blue\n",
      "AI: What is your favorite movie?\n",
      "Human: The lord of the rings\n",
      "AI: Pick one - dogs, cats or hamsters?\n",
      "Human: dogs\n",
      "AI: What is your favorite food?\n",
      "Human: pasta\n",
      "AI: What is your favorite drink?\n",
      "Human: coffe\n",
      "AI: Now tell me a plot summary of a movie you're considering watching, \n",
      "    and specify how you want me to respond to you with the movie rating\n",
      "AI: Based on the personal questions answered by the human, it seems that they have a preference for fantasy movies, the color blue, dogs, pasta, and coffee. They also mentioned that their favorite movie is \"The Lord of the Rings.\" \n",
      "\n",
      "Considering these preferences, the persona I have built for the human is someone who enjoys imaginative and adventurous stories, appreciates vibrant and calming colors like blue, has a fondness for dogs, enjoys comforting and hearty meals like pasta, and likes to relax with a cup of coffee. \n",
      "\n",
      "Given the plot summary of \"Barbie,\" which involves a fantasy world, self-discovery, and a commentary on societal norms, I believe this movie aligns well with the human's preferences. The movie combines elements of fantasy, adventure, and social commentary, which are likely to appeal to someone who enjoys the fantasy genre and thought-provoking themes. \n",
      "\n",
      "Therefore, based on the human's persona and their preferences, I would rate the movie \"Barbie\" a 85 out of 100.\n",
      "\n",
      "RATING FOR MOVIE Barbie is 85\n",
      "AI: Based on the personal questions answered by the human, it is clear that they have a preference for fantasy movies, the color blue, dogs, pasta, and coffee. Their favorite movie is \"The Lord of the Rings,\" indicating a love for epic and adventurous stories. \n",
      "\n",
      "The persona I have built for the human is someone who enjoys imaginative and adventurous narratives, vibrant and calming colors like blue, has a fondness for dogs, appreciates comforting meals like pasta, and likes to relax with a cup of coffee. \n",
      "\n",
      "Given the plot summary of \"Oppenheimer,\" which is an epic biographical thriller film about J. Robert Oppenheimer's role in the development of the atomic bomb during World War II, it may not align perfectly with the human's preferences for fantasy and adventure. However, the film does offer a deep and thought-provoking exploration of historical events and complex characters, which could still be engaging for someone who appreciates intriguing and well-crafted stories.\n",
      "\n",
      "Therefore, considering the human's persona and preferences, I would rate the movie \"Oppenheimer\" a 75 out of 100. While it may not be a perfect match for their usual preferences, the film's depth and historical significance could still make it an interesting watch for them.\n",
      "\n",
      "RATING FOR MOVIE Oppenheimer is 75\n",
      "AI: The human's persona is someone who enjoys imaginative and adventurous stories, vibrant colors like blue, has a fondness for dogs, appreciates comforting meals like pasta, and likes to relax with a cup of coffee. This persona is likely to be drawn to movies that offer fantasy elements, thought-provoking themes, and engaging narratives.\n",
      "\n",
      "Based on the plot summary of \"Barbie,\" which involves a fantasy world, self-discovery, and a commentary on societal norms, this movie aligns well with the human's preferences for fantasy, adventure, and thought-provoking themes. The movie's exploration of societal expectations, self-acceptance, and empowerment is likely to resonate with someone who enjoys imaginative and meaningful stories.\n",
      "\n",
      "Therefore, considering the human's persona and preferences, I would rate the movie \"Barbie\" an 85 out of 100.\n",
      "\n",
      "RATING FOR MOVIE Barbie is 85\n",
      "AI: Based on the personal questions answered by the human, it is clear that they have a preference for fantasy movies, the color blue, dogs, pasta, and coffee. Their favorite movie is \"The Lord of the Rings,\" indicating a love for epic and adventurous stories.\n",
      "\n",
      "The persona I have built for the human is someone who enjoys deep and thought-provoking narratives, as well as imaginative and adventurous stories. They appreciate vibrant colors like blue, have a fondness for dogs, enjoy comforting meals like pasta, and like to relax with a cup of coffee.\n",
      "\n",
      "Considering the plot summary of \"Oppenheimer,\" which is an epic biographical thriller film about J. Robert Oppenheimer's role in the development of the atomic bomb during World War II, it may not align perfectly with the human's usual preferences for fantasy and adventure. However, the film offers a complex and intriguing exploration of historical events and characters, which could still be engaging for someone who appreciates well-crafted stories.\n",
      "\n",
      "Therefore, based on the human's persona and their preferences, I would rate the movie \"Oppenheimer\" a 75 out of 100. While it may not be a perfect match for their usual preferences, the film's depth and historical significance could still make it an interesting watch for them.\n",
      "\n",
      "RATING FOR MOVIE Oppenheimer is 75\n",
      "AI: Based on the personal questions answered by the human, it is evident that they have a preference for fantasy movies, the color blue, dogs, pasta, and coffee. Their favorite movie is \"The Lord of the Rings,\" indicating a love for epic and adventurous stories. The persona I have built for the human is someone who enjoys imaginative and adventurous narratives, vibrant colors like blue, has a fondness for dogs, appreciates comforting meals like pasta, and likes to relax with a cup of coffee.\n",
      "\n",
      "Considering the plot summary of \"The Notebook,\" which is a romantic drama film about a couple's enduring love story, it may not align perfectly with the human's usual preferences for fantasy and adventure. However, the film offers a deep and emotional exploration of relationships and the passage of time, which could still be engaging for someone who appreciates heartfelt and touching stories.\n",
      "\n",
      "Therefore, based on the human's persona and their preferences, I would rate the movie \"The Notebook\" a 70 out of 100. While it may not be a perfect match for their usual preferences, the film's emotional depth and romantic themes could still make it a compelling watch for them.\n",
      "\n",
      "RATING FOR MOVIE The Notebook is 70\n",
      "AI: Based on the personal questions answered by the human, it is clear that they have a preference for fantasy movies, the color blue, dogs, pasta, and coffee. Their favorite movie is \"The Lord of the Rings,\" indicating a love for epic and adventurous stories. The persona I have built for the human is someone who enjoys imaginative and adventurous narratives, vibrant colors like blue, has a fondness for dogs, appreciates comforting meals like pasta, and likes to relax with a cup of coffee.\n",
      "\n",
      "Considering the plot summary of \"Dumb Money,\" which is a biographical comedy-drama film based on the GameStop short squeeze of January 2021, it may not align perfectly with the human's usual preferences for fantasy and adventure. However, the film offers a unique and intriguing look at real-life events and the impact of individual actions on a larger scale, which could still be engaging for someone who appreciates well-crafted stories with a touch of drama and comedy.\n",
      "\n",
      "Therefore, based on the human's persona and their preferences, I would rate the movie \"Dumb Money\" a 70 out of 100. While it may not be a perfect match for their usual preferences, the film's blend of comedy, drama, and real-world relevance could still make it an interesting watch for them.\n",
      "\n",
      "RATING FOR MOVIE Dumb Money is 70\n",
      "Human: Now that AI has rated all the movies, AI will recommend human the one that human will like the most. \n",
      "                            AI will respond with movie recommendation, and short explanation for why human will like it over all other movies. \n",
      "                            AI will not include any ratings in your explanation, only the reasons why human will like it the most.\n",
      "                            However, the movie you will pick must be one of the movies you rated the highest.\n",
      "                            For example, if you rated one movie 65, and the other 60, you will recommend the movie with rating 65 because rating 65 \n",
      "                            is greate than rating of 60 .\n",
      "AI:\n",
      "\u001b[0m\n",
      "\n",
      "\u001b[1m> Finished chain.\u001b[0m\n",
      "Based on the ratings provided for the movies, the one that I would recommend for you is \"Barbie.\" This movie aligns well with your preferences for fantasy, adventure, and thought-provoking themes. The imaginative and adventurous story, vibrant colors, and societal commentary in \"Barbie\" are likely to resonate with you based on your persona. Enjoy watching \"Barbie\" and immersing yourself in its fantasy world!\n"
     ]
    }
   ],
   "source": [
    "final_recommendation = \"\"\"Now that AI has rated all the movies, AI will recommend human the one that human will like the most. \n",
    "                            AI will respond with movie recommendation, and short explanation for why human will like it over all other movies. \n",
    "                            AI will not include any ratings in your explanation, only the reasons why human will like it the most.\n",
    "                            However, the movie you will pick must be one of the movies you rated the highest.\n",
    "                            For example, if you rated one movie 65, and the other 60, you will recommend the movie with rating 65 because rating 65 \n",
    "                            is greate than rating of 60 .\"\"\"\n",
    "\n",
    "# run recommendation once more to get the final movie recommendation\n",
    "prediction = recommender.predict(input=final_recommendation)\n",
    "print(prediction)"
   ]
  }
 ],
 "metadata": {
  "kernelspec": {
   "display_name": "Python 3 (ipykernel)",
   "language": "python",
   "name": "python3"
  },
  "language_info": {
   "codemirror_mode": {
    "name": "ipython",
    "version": 3
   },
   "file_extension": ".py",
   "mimetype": "text/x-python",
   "name": "python",
   "nbconvert_exporter": "python",
   "pygments_lexer": "ipython3",
   "version": "3.11.6"
  }
 },
 "nbformat": 4,
 "nbformat_minor": 2
}
