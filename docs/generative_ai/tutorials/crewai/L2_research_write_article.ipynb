{
 "cells": [
  {
   "cell_type": "markdown",
   "metadata": {},
   "source": [
    "You can download the `requirements.txt` for this course from the workspace of this lab. `File --> Open...`"
   ]
  },
  {
   "cell_type": "markdown",
   "metadata": {},
   "source": [
    "# L2: Create Agents to Research and Write an Article\n",
    "\n",
    "In this lesson, you will be introduced to the foundational concepts of multi-agent systems and get an overview of the crewAI framework."
   ]
  },
  {
   "cell_type": "markdown",
   "metadata": {},
   "source": [
    "The libraries are already installed in the classroom. If you're running this notebook on your own machine, you can install the following:\n",
    "```Python\n",
    "!pip install crewai==0.28.8 crewai_tools==0.1.6 langchain_community==0.0.29\n",
    "```"
   ]
  },
  {
   "cell_type": "code",
   "execution_count": 1,
   "metadata": {
    "height": 64
   },
   "outputs": [],
   "source": [
    "# Warning control\n",
    "import warnings\n",
    "warnings.filterwarnings('ignore')"
   ]
  },
  {
   "cell_type": "markdown",
   "metadata": {},
   "source": [
    "- Import from the crewAI libray."
   ]
  },
  {
   "cell_type": "code",
   "execution_count": 2,
   "metadata": {
    "height": 30
   },
   "outputs": [],
   "source": [
    "from crewai import Agent, Task, Crew"
   ]
  },
  {
   "cell_type": "markdown",
   "metadata": {},
   "source": [
    "- As a LLM for your agents, you'll be using OpenAI's `gpt-3.5-turbo`.\n",
    "\n",
    "**Optional Note:** crewAI also allow other popular models to be used as a LLM for your Agents. You can see some of the examples at the [bottom of the notebook](#1)."
   ]
  },
  {
   "cell_type": "code",
   "execution_count": 3,
   "metadata": {
    "height": 98
   },
   "outputs": [],
   "source": [
    "import os\n",
    "from utils import get_openai_api_key\n",
    "\n",
    "openai_api_key = get_openai_api_key()\n",
    "os.environ[\"OPENAI_MODEL_NAME\"] = 'gpt-3.5-turbo'"
   ]
  },
  {
   "cell_type": "markdown",
   "metadata": {},
   "source": [
    "## Creating Agents\n",
    "\n",
    "- Define your Agents, and provide them a `role`, `goal` and `backstory`.\n",
    "- It has been seen that LLMs perform better when they are role playing."
   ]
  },
  {
   "cell_type": "markdown",
   "metadata": {},
   "source": [
    "### Agent: Planner\n",
    "\n",
    "**Note**: The benefit of using _multiple strings_ :\n",
    "```Python\n",
    "varname = \"line 1 of text\"\n",
    "          \"line 2 of text\"\n",
    "```\n",
    "\n",
    "versus the _triple quote docstring_:\n",
    "```Python\n",
    "varname = \"\"\"line 1 of text\n",
    "             line 2 of text\n",
    "          \"\"\"\n",
    "```\n",
    "is that it can avoid adding those whitespaces and newline characters, making it better formatted to be passed to the LLM."
   ]
  },
  {
   "cell_type": "code",
   "execution_count": 9,
   "metadata": {
    "height": 234
   },
   "outputs": [],
   "source": [
    "planner = Agent(\n",
    "    role=\"Content Planner\",\n",
    "    goal=\"Plan engaging and factually accurate content on {topic}\",\n",
    "    backstory=\"You're working on planning a blog article \"\n",
    "              \"about the topic: {topic}.\"\n",
    "              \"You collect information that helps the \"\n",
    "              \"audience learn something \"\n",
    "              \"and make informed decisions. \"\n",
    "              \"Your work is the basis for \"\n",
    "              \"the Content Writer to write an article on this topic.\",\n",
    "    allow_delegation=False,\n",
    "\tverbose=True\n",
    ")"
   ]
  },
  {
   "cell_type": "markdown",
   "metadata": {},
   "source": [
    "### Agent: Writer"
   ]
  },
  {
   "cell_type": "code",
   "execution_count": 10,
   "metadata": {
    "height": 370
   },
   "outputs": [],
   "source": [
    "writer = Agent(\n",
    "    role=\"Content Writer\",\n",
    "    goal=\"Write insightful and factually accurate \"\n",
    "         \"opinion piece about the topic: {topic}\",\n",
    "    backstory=\"You're working on a writing \"\n",
    "              \"a new opinion piece about the topic: {topic}. \"\n",
    "              \"You base your writing on the work of \"\n",
    "              \"the Content Planner, who provides an outline \"\n",
    "              \"and relevant context about the topic. \"\n",
    "              \"You follow the main objectives and \"\n",
    "              \"direction of the outline, \"\n",
    "              \"as provide by the Content Planner. \"\n",
    "              \"You also provide objective and impartial insights \"\n",
    "              \"and back them up with information \"\n",
    "              \"provide by the Content Planner. \"\n",
    "              \"You acknowledge in your opinion piece \"\n",
    "              \"when your statements are opinions \"\n",
    "              \"as opposed to objective statements.\",\n",
    "    allow_delegation=False,\n",
    "    verbose=True\n",
    ")"
   ]
  },
  {
   "cell_type": "markdown",
   "metadata": {},
   "source": [
    "### Agent: Editor"
   ]
  },
  {
   "cell_type": "code",
   "execution_count": 11,
   "metadata": {
    "height": 268
   },
   "outputs": [],
   "source": [
    "editor = Agent(\n",
    "    role=\"Editor\",\n",
    "    goal=\"Edit a given blog post to align with \"\n",
    "         \"the writing style of the organization. \",\n",
    "    backstory=\"You are an editor who receives a blog post \"\n",
    "              \"from the Content Writer. \"\n",
    "              \"Your goal is to review the blog post \"\n",
    "              \"to ensure that it follows journalistic best practices,\"\n",
    "              \"provides balanced viewpoints \"\n",
    "              \"when providing opinions or assertions, \"\n",
    "              \"and also avoids major controversial topics \"\n",
    "              \"or opinions when possible.\",\n",
    "    allow_delegation=False,\n",
    "    verbose=True\n",
    ")"
   ]
  },
  {
   "cell_type": "markdown",
   "metadata": {},
   "source": [
    "## Creating Tasks\n",
    "\n",
    "- Define your Tasks, and provide them a `description`, `expected_output` and `agent`."
   ]
  },
  {
   "cell_type": "markdown",
   "metadata": {},
   "source": [
    "### Task: Plan"
   ]
  },
  {
   "cell_type": "code",
   "execution_count": 12,
   "metadata": {
    "height": 268
   },
   "outputs": [],
   "source": [
    "plan = Task(\n",
    "    description=(\n",
    "        \"1. Prioritize the latest trends, key players, \"\n",
    "            \"and noteworthy news on {topic}.\\n\"\n",
    "        \"2. Identify the target audience, considering \"\n",
    "            \"their interests and pain points.\\n\"\n",
    "        \"3. Develop a detailed content outline including \"\n",
    "            \"an introduction, key points, and a call to action.\\n\"\n",
    "        \"4. Include SEO keywords and relevant data or sources.\"\n",
    "    ),\n",
    "    expected_output=\"A comprehensive content plan document \"\n",
    "        \"with an outline, audience analysis, \"\n",
    "        \"SEO keywords, and resources.\",\n",
    "    agent=planner,\n",
    ")"
   ]
  },
  {
   "cell_type": "markdown",
   "metadata": {},
   "source": [
    "### Task: Write"
   ]
  },
  {
   "cell_type": "code",
   "execution_count": 13,
   "metadata": {
    "height": 319
   },
   "outputs": [],
   "source": [
    "write = Task(\n",
    "    description=(\n",
    "        \"1. Use the content plan to craft a compelling \"\n",
    "            \"blog post on {topic}.\\n\"\n",
    "        \"2. Incorporate SEO keywords naturally.\\n\"\n",
    "        \"3. Sections/Subtitles are properly named \"\n",
    "            \"in an engaging manner.\\n\"\n",
    "        \"4. Ensure the post is structured with an \"\n",
    "            \"engaging introduction, insightful body, \"\n",
    "            \"and a summarizing conclusion.\\n\"\n",
    "        \"5. Proofread for grammatical errors and \"\n",
    "            \"alignment with the brand's voice.\\n\"\n",
    "    ),\n",
    "    expected_output=\"A well-written blog post \"\n",
    "        \"in markdown format, ready for publication, \"\n",
    "        \"each section should have 2 or 3 paragraphs.\",\n",
    "    agent=writer,\n",
    ")"
   ]
  },
  {
   "cell_type": "markdown",
   "metadata": {},
   "source": [
    "### Task: Edit"
   ]
  },
  {
   "cell_type": "code",
   "execution_count": 14,
   "metadata": {
    "height": 166
   },
   "outputs": [],
   "source": [
    "edit = Task(\n",
    "    description=(\"Proofread the given blog post for \"\n",
    "                 \"grammatical errors and \"\n",
    "                 \"alignment with the brand's voice.\"),\n",
    "    expected_output=\"A well-written blog post in markdown format, \"\n",
    "                    \"ready for publication, \"\n",
    "                    \"each section should have 2 or 3 paragraphs.\",\n",
    "    agent=editor\n",
    ")"
   ]
  },
  {
   "cell_type": "markdown",
   "metadata": {},
   "source": [
    "## Creating the Crew\n",
    "\n",
    "- Create your crew of Agents\n",
    "- Pass the tasks to be performed by those agents.\n",
    "    - **Note**: *For this simple example*, the tasks will be performed sequentially (i.e they are dependent on each other), so the _order_ of the task in the list _matters_.\n",
    "- `verbose=2` allows you to see all the logs of the execution. "
   ]
  },
  {
   "cell_type": "code",
   "execution_count": 15,
   "metadata": {
    "height": 98
   },
   "outputs": [],
   "source": [
    "crew = Crew(\n",
    "    agents=[planner, writer, editor],\n",
    "    tasks=[plan, write, edit], # the order matters\n",
    "    verbose=2\n",
    ")"
   ]
  },
  {
   "cell_type": "markdown",
   "metadata": {},
   "source": [
    "## Running the Crew"
   ]
  },
  {
   "cell_type": "markdown",
   "metadata": {},
   "source": [
    "**Note**: LLMs can provide different outputs for they same input, so what you get might be different than what you see in the video."
   ]
  },
  {
   "cell_type": "code",
   "execution_count": 16,
   "metadata": {
    "height": 30
   },
   "outputs": [
    {
     "name": "stdout",
     "output_type": "stream",
     "text": [
      "\u001b[1m\u001b[95m [DEBUG]: == Working Agent: Content Planner\u001b[00m\n",
      "\u001b[1m\u001b[95m [INFO]: == Starting Task: 1. Prioritize the latest trends, key players, and noteworthy news on Artificial Intelligence.\n",
      "2. Identify the target audience, considering their interests and pain points.\n",
      "3. Develop a detailed content outline including an introduction, key points, and a call to action.\n",
      "4. Include SEO keywords and relevant data or sources.\u001b[00m\n",
      "\n",
      "\n",
      "\u001b[1m> Entering new CrewAgentExecutor chain...\u001b[0m\n",
      "\u001b[32;1m\u001b[1;3mI now can give a great answer\n",
      "\n",
      "Final Answer: \n",
      "\n",
      "Content Plan Document\n",
      "\n",
      "Title: Unveiling the Latest Trends and Key Players in Artificial Intelligence\n",
      "\n",
      "Outline:\n",
      "\n",
      "I. Introduction\n",
      "- Definition of Artificial Intelligence\n",
      "- Importance of AI in today's digital world\n",
      "- Brief overview of the latest trends in AI\n",
      "\n",
      "II. Latest Trends in Artificial Intelligence\n",
      "A. Machine Learning\n",
      "- Advancements in deep learning algorithms\n",
      "- Applications in various industries such as healthcare and finance\n",
      "- Impact on automation and decision-making processes\n",
      "\n",
      "B. Natural Language Processing\n",
      "- Development of conversational AI\n",
      "- Use cases in customer service and virtual assistants\n",
      "- Future implications for human-computer interaction\n",
      "\n",
      "C. Ethical AI\n",
      "- Discussions on bias and fairness in AI algorithms\n",
      "- Regulatory measures to ensure ethical AI implementation\n",
      "- Importance of transparency and accountability in AI systems\n",
      "\n",
      "III. Key Players in Artificial Intelligence\n",
      "A. Tech Giants\n",
      "- Google's AI research division (Google Brain)\n",
      "- Microsoft's Azure Cognitive Services\n",
      "- IBM Watson\n",
      "\n",
      "B. AI Startups\n",
      "- DeepMind\n",
      "- OpenAI\n",
      "- UiPath\n",
      "\n",
      "C. Academic Institutions\n",
      "- Stanford University's AI Lab\n",
      "- MIT Computer Science and Artificial Intelligence Laboratory\n",
      "- University of Toronto's Vector Institute\n",
      "\n",
      "IV. Noteworthy News in Artificial Intelligence\n",
      "- Recent breakthroughs in AI research\n",
      "- Industry partnerships and collaborations\n",
      "- Impact of AI on job market and future workforce\n",
      "\n",
      "V. Target Audience Analysis\n",
      "- Professionals in technology and data science\n",
      "- Business leaders interested in AI adoption\n",
      "- Students and researchers in AI and machine learning\n",
      "\n",
      "VI. SEO Keywords\n",
      "- Artificial Intelligence trends\n",
      "- Key players in AI industry\n",
      "- Latest news on AI developments\n",
      "- Ethical considerations in AI\n",
      "- Future of Artificial Intelligence\n",
      "\n",
      "VII. Resources\n",
      "- Industry reports and whitepapers\n",
      "- Research articles from reputable journals\n",
      "- Interviews with AI experts and thought leaders\n",
      "- AI conferences and events\n",
      "\n",
      "Call to Action: Stay informed about the rapidly evolving field of Artificial Intelligence by following our blog for regular updates and insights.\n",
      "\n",
      "This comprehensive content plan document outlines the structure, target audience analysis, SEO keywords, and resources for the upcoming blog article on Artificial Intelligence. By focusing on the latest trends, key players, and noteworthy news in AI, we aim to provide valuable information to our audience and engage them with relevant and informative content.\u001b[0m\n",
      "\n",
      "\u001b[1m> Finished chain.\u001b[0m\n",
      "\u001b[1m\u001b[92m [DEBUG]: == [Content Planner] Task output: Content Plan Document\n",
      "\n",
      "Title: Unveiling the Latest Trends and Key Players in Artificial Intelligence\n",
      "\n",
      "Outline:\n",
      "\n",
      "I. Introduction\n",
      "- Definition of Artificial Intelligence\n",
      "- Importance of AI in today's digital world\n",
      "- Brief overview of the latest trends in AI\n",
      "\n",
      "II. Latest Trends in Artificial Intelligence\n",
      "A. Machine Learning\n",
      "- Advancements in deep learning algorithms\n",
      "- Applications in various industries such as healthcare and finance\n",
      "- Impact on automation and decision-making processes\n",
      "\n",
      "B. Natural Language Processing\n",
      "- Development of conversational AI\n",
      "- Use cases in customer service and virtual assistants\n",
      "- Future implications for human-computer interaction\n",
      "\n",
      "C. Ethical AI\n",
      "- Discussions on bias and fairness in AI algorithms\n",
      "- Regulatory measures to ensure ethical AI implementation\n",
      "- Importance of transparency and accountability in AI systems\n",
      "\n",
      "III. Key Players in Artificial Intelligence\n",
      "A. Tech Giants\n",
      "- Google's AI research division (Google Brain)\n",
      "- Microsoft's Azure Cognitive Services\n",
      "- IBM Watson\n",
      "\n",
      "B. AI Startups\n",
      "- DeepMind\n",
      "- OpenAI\n",
      "- UiPath\n",
      "\n",
      "C. Academic Institutions\n",
      "- Stanford University's AI Lab\n",
      "- MIT Computer Science and Artificial Intelligence Laboratory\n",
      "- University of Toronto's Vector Institute\n",
      "\n",
      "IV. Noteworthy News in Artificial Intelligence\n",
      "- Recent breakthroughs in AI research\n",
      "- Industry partnerships and collaborations\n",
      "- Impact of AI on job market and future workforce\n",
      "\n",
      "V. Target Audience Analysis\n",
      "- Professionals in technology and data science\n",
      "- Business leaders interested in AI adoption\n",
      "- Students and researchers in AI and machine learning\n",
      "\n",
      "VI. SEO Keywords\n",
      "- Artificial Intelligence trends\n",
      "- Key players in AI industry\n",
      "- Latest news on AI developments\n",
      "- Ethical considerations in AI\n",
      "- Future of Artificial Intelligence\n",
      "\n",
      "VII. Resources\n",
      "- Industry reports and whitepapers\n",
      "- Research articles from reputable journals\n",
      "- Interviews with AI experts and thought leaders\n",
      "- AI conferences and events\n",
      "\n",
      "Call to Action: Stay informed about the rapidly evolving field of Artificial Intelligence by following our blog for regular updates and insights.\n",
      "\n",
      "This comprehensive content plan document outlines the structure, target audience analysis, SEO keywords, and resources for the upcoming blog article on Artificial Intelligence. By focusing on the latest trends, key players, and noteworthy news in AI, we aim to provide valuable information to our audience and engage them with relevant and informative content.\n",
      "\n",
      "\u001b[00m\n",
      "\u001b[1m\u001b[95m [DEBUG]: == Working Agent: Content Writer\u001b[00m\n",
      "\u001b[1m\u001b[95m [INFO]: == Starting Task: 1. Use the content plan to craft a compelling blog post on Artificial Intelligence.\n",
      "2. Incorporate SEO keywords naturally.\n",
      "3. Sections/Subtitles are properly named in an engaging manner.\n",
      "4. Ensure the post is structured with an engaging introduction, insightful body, and a summarizing conclusion.\n",
      "5. Proofread for grammatical errors and alignment with the brand's voice.\n",
      "\u001b[00m\n",
      "\n",
      "\n",
      "\u001b[1m> Entering new CrewAgentExecutor chain...\u001b[0m\n",
      "\u001b[32;1m\u001b[1;3mI now can give a great answer\n",
      "\n",
      "Final Answer:\n",
      "\n",
      "# Unveiling the Latest Trends and Key Players in Artificial Intelligence\n",
      "\n",
      "## Introduction\n",
      "Artificial Intelligence (AI) has become an integral part of today's digital world, revolutionizing industries and shaping the future of technology. Defined as the simulation of human intelligence processes by machines, AI plays a crucial role in driving innovation and automation. The latest trends in AI encompass advancements in Machine Learning, Natural Language Processing, and Ethical AI, each contributing to the growth and development of intelligent systems.\n",
      "\n",
      "## Latest Trends in Artificial Intelligence\n",
      "\n",
      "### Machine Learning\n",
      "Machine Learning, a subset of AI, has seen significant progress with advancements in deep learning algorithms. These algorithms have found applications across various industries such as healthcare and finance, enabling predictive analytics and personalized services. The impact of Machine Learning extends to automation and decision-making processes, transforming how businesses operate and make strategic decisions.\n",
      "\n",
      "### Natural Language Processing\n",
      "Natural Language Processing (NLP) focuses on the interaction between computers and human language, leading to the development of conversational AI. This technology is utilized in customer service and virtual assistants, enhancing user experience and communication. The future implications of NLP in human-computer interaction are vast, with potential advancements in voice recognition and language translation.\n",
      "\n",
      "### Ethical AI\n",
      "Ethical considerations in AI have gained prominence, with discussions on bias and fairness in AI algorithms. Regulatory measures are being implemented to ensure ethical AI implementation, emphasizing transparency and accountability in AI systems. As AI continues to evolve, maintaining ethical standards is crucial to building trust and reliability in intelligent technologies.\n",
      "\n",
      "## Key Players in Artificial Intelligence\n",
      "\n",
      "### Tech Giants\n",
      "Tech giants like Google, Microsoft, and IBM are leading the way in AI research and development. Google's AI research division, Google Brain, focuses on advancing machine learning capabilities, while Microsoft's Azure Cognitive Services provide AI solutions for businesses. IBM Watson is known for its cognitive computing technology, transforming industries with AI-powered insights.\n",
      "\n",
      "### AI Startups\n",
      "AI startups such as DeepMind, OpenAI, and UiPath are disrupting the industry with innovative solutions. DeepMind specializes in deep learning and reinforcement learning, pushing the boundaries of AI research. OpenAI focuses on developing AI for the betterment of humanity, while UiPath offers robotic process automation for businesses seeking efficiency and productivity.\n",
      "\n",
      "### Academic Institutions\n",
      "Leading academic institutions like Stanford University, MIT, and the University of Toronto have established AI labs and research centers. Stanford University's AI Lab conducts cutting-edge research in machine learning and computer vision, while MIT's CSAIL pioneers breakthroughs in AI and robotics. The University of Toronto's Vector Institute is dedicated to advancing AI research and education, shaping the future of intelligent systems.\n",
      "\n",
      "## Noteworthy News in Artificial Intelligence\n",
      "Stay informed about recent breakthroughs in AI research, industry partnerships, and collaborations driving innovation in AI. Explore the impact of AI on the job market and future workforce, as industries adapt to the changing landscape of intelligent technologies. Follow our blog for regular updates and insights on the latest news in Artificial Intelligence.\n",
      "\n",
      "## Conclusion\n",
      "Artificial Intelligence continues to evolve and shape the digital landscape, with advancements in Machine Learning, Natural Language Processing, and Ethical AI driving innovation. Key players in AI, including tech giants, startups, and academic institutions, are leading the way in research and development. Stay informed about the latest trends and developments in AI by following our blog for valuable insights and updates on the future of Artificial Intelligence.\u001b[0m\n",
      "\n",
      "\u001b[1m> Finished chain.\u001b[0m\n",
      "\u001b[1m\u001b[92m [DEBUG]: == [Content Writer] Task output: # Unveiling the Latest Trends and Key Players in Artificial Intelligence\n",
      "\n",
      "## Introduction\n",
      "Artificial Intelligence (AI) has become an integral part of today's digital world, revolutionizing industries and shaping the future of technology. Defined as the simulation of human intelligence processes by machines, AI plays a crucial role in driving innovation and automation. The latest trends in AI encompass advancements in Machine Learning, Natural Language Processing, and Ethical AI, each contributing to the growth and development of intelligent systems.\n",
      "\n",
      "## Latest Trends in Artificial Intelligence\n",
      "\n",
      "### Machine Learning\n",
      "Machine Learning, a subset of AI, has seen significant progress with advancements in deep learning algorithms. These algorithms have found applications across various industries such as healthcare and finance, enabling predictive analytics and personalized services. The impact of Machine Learning extends to automation and decision-making processes, transforming how businesses operate and make strategic decisions.\n",
      "\n",
      "### Natural Language Processing\n",
      "Natural Language Processing (NLP) focuses on the interaction between computers and human language, leading to the development of conversational AI. This technology is utilized in customer service and virtual assistants, enhancing user experience and communication. The future implications of NLP in human-computer interaction are vast, with potential advancements in voice recognition and language translation.\n",
      "\n",
      "### Ethical AI\n",
      "Ethical considerations in AI have gained prominence, with discussions on bias and fairness in AI algorithms. Regulatory measures are being implemented to ensure ethical AI implementation, emphasizing transparency and accountability in AI systems. As AI continues to evolve, maintaining ethical standards is crucial to building trust and reliability in intelligent technologies.\n",
      "\n",
      "## Key Players in Artificial Intelligence\n",
      "\n",
      "### Tech Giants\n",
      "Tech giants like Google, Microsoft, and IBM are leading the way in AI research and development. Google's AI research division, Google Brain, focuses on advancing machine learning capabilities, while Microsoft's Azure Cognitive Services provide AI solutions for businesses. IBM Watson is known for its cognitive computing technology, transforming industries with AI-powered insights.\n",
      "\n",
      "### AI Startups\n",
      "AI startups such as DeepMind, OpenAI, and UiPath are disrupting the industry with innovative solutions. DeepMind specializes in deep learning and reinforcement learning, pushing the boundaries of AI research. OpenAI focuses on developing AI for the betterment of humanity, while UiPath offers robotic process automation for businesses seeking efficiency and productivity.\n",
      "\n",
      "### Academic Institutions\n",
      "Leading academic institutions like Stanford University, MIT, and the University of Toronto have established AI labs and research centers. Stanford University's AI Lab conducts cutting-edge research in machine learning and computer vision, while MIT's CSAIL pioneers breakthroughs in AI and robotics. The University of Toronto's Vector Institute is dedicated to advancing AI research and education, shaping the future of intelligent systems.\n",
      "\n",
      "## Noteworthy News in Artificial Intelligence\n",
      "Stay informed about recent breakthroughs in AI research, industry partnerships, and collaborations driving innovation in AI. Explore the impact of AI on the job market and future workforce, as industries adapt to the changing landscape of intelligent technologies. Follow our blog for regular updates and insights on the latest news in Artificial Intelligence.\n",
      "\n",
      "## Conclusion\n",
      "Artificial Intelligence continues to evolve and shape the digital landscape, with advancements in Machine Learning, Natural Language Processing, and Ethical AI driving innovation. Key players in AI, including tech giants, startups, and academic institutions, are leading the way in research and development. Stay informed about the latest trends and developments in AI by following our blog for valuable insights and updates on the future of Artificial Intelligence.\n",
      "\n",
      "\u001b[00m\n",
      "\u001b[1m\u001b[95m [DEBUG]: == Working Agent: Editor\u001b[00m\n",
      "\u001b[1m\u001b[95m [INFO]: == Starting Task: Proofread the given blog post for grammatical errors and alignment with the brand's voice.\u001b[00m\n",
      "\n",
      "\n",
      "\u001b[1m> Entering new CrewAgentExecutor chain...\u001b[0m\n"
     ]
    },
    {
     "name": "stdout",
     "output_type": "stream",
     "text": [
      "\u001b[32;1m\u001b[1;3mI now can give a great answer\n",
      "\n",
      "Final Answer: \n",
      "\n",
      "# Unveiling the Latest Trends and Key Players in Artificial Intelligence\n",
      "\n",
      "## Introduction\n",
      "Artificial Intelligence (AI) has become an integral part of today's digital world, revolutionizing industries and shaping the future of technology. Defined as the simulation of human intelligence processes by machines, AI plays a crucial role in driving innovation and automation. The latest trends in AI encompass advancements in Machine Learning, Natural Language Processing, and Ethical AI, each contributing to the growth and development of intelligent systems.\n",
      "\n",
      "## Latest Trends in Artificial Intelligence\n",
      "\n",
      "### Machine Learning\n",
      "Machine Learning, a subset of AI, has seen significant progress with advancements in deep learning algorithms. These algorithms have found applications across various industries such as healthcare and finance, enabling predictive analytics and personalized services. The impact of Machine Learning extends to automation and decision-making processes, transforming how businesses operate and make strategic decisions.\n",
      "\n",
      "### Natural Language Processing\n",
      "Natural Language Processing (NLP) focuses on the interaction between computers and human language, leading to the development of conversational AI. This technology is utilized in customer service and virtual assistants, enhancing user experience and communication. The future implications of NLP in human-computer interaction are vast, with potential advancements in voice recognition and language translation.\n",
      "\n",
      "### Ethical AI\n",
      "Ethical considerations in AI have gained prominence, with discussions on bias and fairness in AI algorithms. Regulatory measures are being implemented to ensure ethical AI implementation, emphasizing transparency and accountability in AI systems. As AI continues to evolve, maintaining ethical standards is crucial to building trust and reliability in intelligent technologies.\n",
      "\n",
      "## Key Players in Artificial Intelligence\n",
      "\n",
      "### Tech Giants\n",
      "Tech giants like Google, Microsoft, and IBM are leading the way in AI research and development. Google's AI research division, Google Brain, focuses on advancing machine learning capabilities, while Microsoft's Azure Cognitive Services provide AI solutions for businesses. IBM Watson is known for its cognitive computing technology, transforming industries with AI-powered insights.\n",
      "\n",
      "### AI Startups\n",
      "AI startups such as DeepMind, OpenAI, and UiPath are disrupting the industry with innovative solutions. DeepMind specializes in deep learning and reinforcement learning, pushing the boundaries of AI research. OpenAI focuses on developing AI for the betterment of humanity, while UiPath offers robotic process automation for businesses seeking efficiency and productivity.\n",
      "\n",
      "### Academic Institutions\n",
      "Leading academic institutions like Stanford University, MIT, and the University of Toronto have established AI labs and research centers. Stanford University's AI Lab conducts cutting-edge research in machine learning and computer vision, while MIT's CSAIL pioneers breakthroughs in AI and robotics. The University of Toronto's Vector Institute is dedicated to advancing AI research and education, shaping the future of intelligent systems.\n",
      "\n",
      "## Noteworthy News in Artificial Intelligence\n",
      "Stay informed about recent breakthroughs in AI research, industry partnerships, and collaborations driving innovation in AI. Explore the impact of AI on the job market and future workforce, as industries adapt to the changing landscape of intelligent technologies. Follow our blog for regular updates and insights on the latest news in Artificial Intelligence.\n",
      "\n",
      "## Conclusion\n",
      "Artificial Intelligence continues to evolve and shape the digital landscape, with advancements in Machine Learning, Natural Language Processing, and Ethical AI driving innovation. Key players in AI, including tech giants, startups, and academic institutions, are leading the way in research and development. Stay informed about the latest trends and developments in AI by following our blog for valuable insights and updates on the future of Artificial Intelligence.\u001b[0m\n",
      "\n",
      "\u001b[1m> Finished chain.\u001b[0m\n",
      "\u001b[1m\u001b[92m [DEBUG]: == [Editor] Task output: # Unveiling the Latest Trends and Key Players in Artificial Intelligence\n",
      "\n",
      "## Introduction\n",
      "Artificial Intelligence (AI) has become an integral part of today's digital world, revolutionizing industries and shaping the future of technology. Defined as the simulation of human intelligence processes by machines, AI plays a crucial role in driving innovation and automation. The latest trends in AI encompass advancements in Machine Learning, Natural Language Processing, and Ethical AI, each contributing to the growth and development of intelligent systems.\n",
      "\n",
      "## Latest Trends in Artificial Intelligence\n",
      "\n",
      "### Machine Learning\n",
      "Machine Learning, a subset of AI, has seen significant progress with advancements in deep learning algorithms. These algorithms have found applications across various industries such as healthcare and finance, enabling predictive analytics and personalized services. The impact of Machine Learning extends to automation and decision-making processes, transforming how businesses operate and make strategic decisions.\n",
      "\n",
      "### Natural Language Processing\n",
      "Natural Language Processing (NLP) focuses on the interaction between computers and human language, leading to the development of conversational AI. This technology is utilized in customer service and virtual assistants, enhancing user experience and communication. The future implications of NLP in human-computer interaction are vast, with potential advancements in voice recognition and language translation.\n",
      "\n",
      "### Ethical AI\n",
      "Ethical considerations in AI have gained prominence, with discussions on bias and fairness in AI algorithms. Regulatory measures are being implemented to ensure ethical AI implementation, emphasizing transparency and accountability in AI systems. As AI continues to evolve, maintaining ethical standards is crucial to building trust and reliability in intelligent technologies.\n",
      "\n",
      "## Key Players in Artificial Intelligence\n",
      "\n",
      "### Tech Giants\n",
      "Tech giants like Google, Microsoft, and IBM are leading the way in AI research and development. Google's AI research division, Google Brain, focuses on advancing machine learning capabilities, while Microsoft's Azure Cognitive Services provide AI solutions for businesses. IBM Watson is known for its cognitive computing technology, transforming industries with AI-powered insights.\n",
      "\n",
      "### AI Startups\n",
      "AI startups such as DeepMind, OpenAI, and UiPath are disrupting the industry with innovative solutions. DeepMind specializes in deep learning and reinforcement learning, pushing the boundaries of AI research. OpenAI focuses on developing AI for the betterment of humanity, while UiPath offers robotic process automation for businesses seeking efficiency and productivity.\n",
      "\n",
      "### Academic Institutions\n",
      "Leading academic institutions like Stanford University, MIT, and the University of Toronto have established AI labs and research centers. Stanford University's AI Lab conducts cutting-edge research in machine learning and computer vision, while MIT's CSAIL pioneers breakthroughs in AI and robotics. The University of Toronto's Vector Institute is dedicated to advancing AI research and education, shaping the future of intelligent systems.\n",
      "\n",
      "## Noteworthy News in Artificial Intelligence\n",
      "Stay informed about recent breakthroughs in AI research, industry partnerships, and collaborations driving innovation in AI. Explore the impact of AI on the job market and future workforce, as industries adapt to the changing landscape of intelligent technologies. Follow our blog for regular updates and insights on the latest news in Artificial Intelligence.\n",
      "\n",
      "## Conclusion\n",
      "Artificial Intelligence continues to evolve and shape the digital landscape, with advancements in Machine Learning, Natural Language Processing, and Ethical AI driving innovation. Key players in AI, including tech giants, startups, and academic institutions, are leading the way in research and development. Stay informed about the latest trends and developments in AI by following our blog for valuable insights and updates on the future of Artificial Intelligence.\n",
      "\n",
      "\u001b[00m\n"
     ]
    }
   ],
   "source": [
    "result = crew.kickoff(inputs={\"topic\": \"Artificial Intelligence\"})"
   ]
  },
  {
   "cell_type": "markdown",
   "metadata": {},
   "source": [
    "- Display the results of your execution as markdown in the notebook."
   ]
  },
  {
   "cell_type": "code",
   "execution_count": 17,
   "metadata": {
    "height": 47
   },
   "outputs": [
    {
     "data": {
      "text/markdown": [
       "# Unveiling the Latest Trends and Key Players in Artificial Intelligence\n",
       "\n",
       "## Introduction\n",
       "Artificial Intelligence (AI) has become an integral part of today's digital world, revolutionizing industries and shaping the future of technology. Defined as the simulation of human intelligence processes by machines, AI plays a crucial role in driving innovation and automation. The latest trends in AI encompass advancements in Machine Learning, Natural Language Processing, and Ethical AI, each contributing to the growth and development of intelligent systems.\n",
       "\n",
       "## Latest Trends in Artificial Intelligence\n",
       "\n",
       "### Machine Learning\n",
       "Machine Learning, a subset of AI, has seen significant progress with advancements in deep learning algorithms. These algorithms have found applications across various industries such as healthcare and finance, enabling predictive analytics and personalized services. The impact of Machine Learning extends to automation and decision-making processes, transforming how businesses operate and make strategic decisions.\n",
       "\n",
       "### Natural Language Processing\n",
       "Natural Language Processing (NLP) focuses on the interaction between computers and human language, leading to the development of conversational AI. This technology is utilized in customer service and virtual assistants, enhancing user experience and communication. The future implications of NLP in human-computer interaction are vast, with potential advancements in voice recognition and language translation.\n",
       "\n",
       "### Ethical AI\n",
       "Ethical considerations in AI have gained prominence, with discussions on bias and fairness in AI algorithms. Regulatory measures are being implemented to ensure ethical AI implementation, emphasizing transparency and accountability in AI systems. As AI continues to evolve, maintaining ethical standards is crucial to building trust and reliability in intelligent technologies.\n",
       "\n",
       "## Key Players in Artificial Intelligence\n",
       "\n",
       "### Tech Giants\n",
       "Tech giants like Google, Microsoft, and IBM are leading the way in AI research and development. Google's AI research division, Google Brain, focuses on advancing machine learning capabilities, while Microsoft's Azure Cognitive Services provide AI solutions for businesses. IBM Watson is known for its cognitive computing technology, transforming industries with AI-powered insights.\n",
       "\n",
       "### AI Startups\n",
       "AI startups such as DeepMind, OpenAI, and UiPath are disrupting the industry with innovative solutions. DeepMind specializes in deep learning and reinforcement learning, pushing the boundaries of AI research. OpenAI focuses on developing AI for the betterment of humanity, while UiPath offers robotic process automation for businesses seeking efficiency and productivity.\n",
       "\n",
       "### Academic Institutions\n",
       "Leading academic institutions like Stanford University, MIT, and the University of Toronto have established AI labs and research centers. Stanford University's AI Lab conducts cutting-edge research in machine learning and computer vision, while MIT's CSAIL pioneers breakthroughs in AI and robotics. The University of Toronto's Vector Institute is dedicated to advancing AI research and education, shaping the future of intelligent systems.\n",
       "\n",
       "## Noteworthy News in Artificial Intelligence\n",
       "Stay informed about recent breakthroughs in AI research, industry partnerships, and collaborations driving innovation in AI. Explore the impact of AI on the job market and future workforce, as industries adapt to the changing landscape of intelligent technologies. Follow our blog for regular updates and insights on the latest news in Artificial Intelligence.\n",
       "\n",
       "## Conclusion\n",
       "Artificial Intelligence continues to evolve and shape the digital landscape, with advancements in Machine Learning, Natural Language Processing, and Ethical AI driving innovation. Key players in AI, including tech giants, startups, and academic institutions, are leading the way in research and development. Stay informed about the latest trends and developments in AI by following our blog for valuable insights and updates on the future of Artificial Intelligence."
      ],
      "text/plain": [
       "<IPython.core.display.Markdown object>"
      ]
     },
     "execution_count": 17,
     "metadata": {},
     "output_type": "execute_result"
    }
   ],
   "source": [
    "from IPython.display import Markdown\n",
    "Markdown(result)"
   ]
  },
  {
   "cell_type": "markdown",
   "metadata": {},
   "source": [
    "## Try it Yourself\n",
    "\n",
    "- Pass in a topic of your choice and see what the agents come up with!"
   ]
  },
  {
   "cell_type": "code",
   "execution_count": 18,
   "metadata": {
    "height": 47
   },
   "outputs": [
    {
     "name": "stdout",
     "output_type": "stream",
     "text": [
      "\u001b[1m\u001b[95m [DEBUG]: == Working Agent: Content Planner\u001b[00m\n",
      "\u001b[1m\u001b[95m [INFO]: == Starting Task: 1. Prioritize the latest trends, key players, and noteworthy news on Pliego (Murcia).\n",
      "2. Identify the target audience, considering their interests and pain points.\n",
      "3. Develop a detailed content outline including an introduction, key points, and a call to action.\n",
      "4. Include SEO keywords and relevant data or sources.\u001b[00m\n",
      "\n",
      "\n",
      "\u001b[1m> Entering new CrewAgentExecutor chain...\u001b[0m\n",
      "\u001b[32;1m\u001b[1;3mI now can give a great answer\n",
      "\n",
      "Final Answer:\n",
      "\n",
      "Content Plan: \n",
      "Topic: Pliego (Murcia) Blog Article\n",
      "\n",
      "I. Introduction\n",
      "- Brief overview of Pliego (Murcia) and its significance\n",
      "- Mention of latest trends and key players in the region\n",
      "\n",
      "II. Key Points\n",
      "A. Historical Background of Pliego\n",
      "- Insight into the history and cultural heritage of the town\n",
      "- Notable landmarks and attractions\n",
      "\n",
      "B. Economy and Industry in Pliego\n",
      "- Overview of the main economic activities in the region\n",
      "- Key players and industries driving the local economy\n",
      "\n",
      "C. Tourism and Leisure in Pliego\n",
      "- Highlighting tourism opportunities and attractions in the area\n",
      "- Activities, events, and places of interest for visitors\n",
      "\n",
      "D. Community and Lifestyle in Pliego\n",
      "- Insights into the local community and lifestyle\n",
      "- Cultural events, traditions, and local cuisine\n",
      "\n",
      "III. Call to Action\n",
      "- Encouraging readers to visit Pliego and explore its offerings\n",
      "- Mention of upcoming events or initiatives in the town\n",
      "\n",
      "IV. Target Audience Analysis\n",
      "- Travel enthusiasts interested in exploring lesser-known destinations\n",
      "- History buffs looking to learn about the cultural heritage of Pliego\n",
      "- Local residents or expats seeking information about the town\n",
      "- Potential investors or business owners interested in the economic landscape of Pliego\n",
      "\n",
      "V. SEO Keywords\n",
      "- Pliego, Murcia\n",
      "- Pliego tourism\n",
      "- Pliego history\n",
      "- Pliego economy\n",
      "- Things to do in Pliego\n",
      "\n",
      "VI. Resources\n",
      "- Official website of Pliego Municipality\n",
      "- Local tourism board information\n",
      "- Historical archives and documents about Pliego\n",
      "- Interviews with key players and influencers in the region\n",
      "\n",
      "By following this comprehensive content plan, the blog article on Pliego (Murcia) will provide valuable insights and information to the target audience, while also incorporating SEO keywords for better visibility online. The detailed outline will ensure that the content is engaging, informative, and factually accurate, meeting the goal of creating high-quality content for the readers.\u001b[0m\n",
      "\n",
      "\u001b[1m> Finished chain.\u001b[0m\n",
      "\u001b[1m\u001b[92m [DEBUG]: == [Content Planner] Task output: Content Plan: \n",
      "Topic: Pliego (Murcia) Blog Article\n",
      "\n",
      "I. Introduction\n",
      "- Brief overview of Pliego (Murcia) and its significance\n",
      "- Mention of latest trends and key players in the region\n",
      "\n",
      "II. Key Points\n",
      "A. Historical Background of Pliego\n",
      "- Insight into the history and cultural heritage of the town\n",
      "- Notable landmarks and attractions\n",
      "\n",
      "B. Economy and Industry in Pliego\n",
      "- Overview of the main economic activities in the region\n",
      "- Key players and industries driving the local economy\n",
      "\n",
      "C. Tourism and Leisure in Pliego\n",
      "- Highlighting tourism opportunities and attractions in the area\n",
      "- Activities, events, and places of interest for visitors\n",
      "\n",
      "D. Community and Lifestyle in Pliego\n",
      "- Insights into the local community and lifestyle\n",
      "- Cultural events, traditions, and local cuisine\n",
      "\n",
      "III. Call to Action\n",
      "- Encouraging readers to visit Pliego and explore its offerings\n",
      "- Mention of upcoming events or initiatives in the town\n",
      "\n",
      "IV. Target Audience Analysis\n",
      "- Travel enthusiasts interested in exploring lesser-known destinations\n",
      "- History buffs looking to learn about the cultural heritage of Pliego\n",
      "- Local residents or expats seeking information about the town\n",
      "- Potential investors or business owners interested in the economic landscape of Pliego\n",
      "\n",
      "V. SEO Keywords\n",
      "- Pliego, Murcia\n",
      "- Pliego tourism\n",
      "- Pliego history\n",
      "- Pliego economy\n",
      "- Things to do in Pliego\n",
      "\n",
      "VI. Resources\n",
      "- Official website of Pliego Municipality\n",
      "- Local tourism board information\n",
      "- Historical archives and documents about Pliego\n",
      "- Interviews with key players and influencers in the region\n",
      "\n",
      "By following this comprehensive content plan, the blog article on Pliego (Murcia) will provide valuable insights and information to the target audience, while also incorporating SEO keywords for better visibility online. The detailed outline will ensure that the content is engaging, informative, and factually accurate, meeting the goal of creating high-quality content for the readers.\n",
      "\n",
      "\u001b[00m\n",
      "\u001b[1m\u001b[95m [DEBUG]: == Working Agent: Content Writer\u001b[00m\n",
      "\u001b[1m\u001b[95m [INFO]: == Starting Task: 1. Use the content plan to craft a compelling blog post on Pliego (Murcia).\n",
      "2. Incorporate SEO keywords naturally.\n",
      "3. Sections/Subtitles are properly named in an engaging manner.\n",
      "4. Ensure the post is structured with an engaging introduction, insightful body, and a summarizing conclusion.\n",
      "5. Proofread for grammatical errors and alignment with the brand's voice.\n",
      "\u001b[00m\n",
      "\n",
      "\n",
      "\u001b[1m> Entering new CrewAgentExecutor chain...\u001b[0m\n",
      "\u001b[32;1m\u001b[1;3mI now can give a great answer\n",
      "\n",
      "Final Answer:\n",
      "\n",
      "# Discovering the Hidden Gem of Pliego (Murcia)\n",
      "\n",
      "## Introduction\n",
      "Nestled in the heart of Murcia, Pliego stands as a hidden gem waiting to be explored. With a rich historical background and a vibrant community, this town offers a unique blend of tradition and modernity. In recent years, Pliego has been gaining attention for its growing tourism industry and the development of its economy, making it a promising destination for travelers and investors alike.\n",
      "\n",
      "## Historical Background of Pliego\n",
      "Pliego boasts a fascinating history that dates back centuries, reflected in its well-preserved landmarks and cultural heritage. From the iconic Castle of Pliego to the charming streets lined with historic buildings, every corner of the town tells a story of its past. Visitors can immerse themselves in the rich tapestry of Pliego's history, exploring ancient ruins and monuments that speak volumes about its heritage.\n",
      "\n",
      "## Economy and Industry in Pliego\n",
      "While deeply rooted in tradition, Pliego is also a town on the move, with a dynamic economy driven by various industries. Agriculture plays a significant role in the region, with olive groves and vineyards dotting the landscape. Additionally, the town is home to a thriving artisanal sector, producing traditional crafts that are highly sought after. With a focus on sustainable development, Pliego is poised for growth and innovation in the years to come.\n",
      "\n",
      "## Tourism and Leisure in Pliego\n",
      "For travelers seeking an authentic Spanish experience, Pliego offers a plethora of opportunities for exploration and relaxation. From hiking trails in the Sierra Espuña Natural Park to cultural events celebrating local traditions, there is something for everyone in this charming town. Visitors can also indulge in the region's culinary delights, savoring the flavors of traditional dishes made with fresh, local ingredients.\n",
      "\n",
      "## Community and Lifestyle in Pliego\n",
      "At the heart of Pliego lies its warm and welcoming community, known for its hospitality and festive spirit. Throughout the year, the town comes alive with cultural events, festivals, and gastronomic fairs that showcase the best of local traditions. Residents and visitors alike can partake in these celebrations, experiencing firsthand the vibrant and lively atmosphere that defines life in Pliego.\n",
      "\n",
      "## Call to Action\n",
      "As you plan your next travel adventure or business venture, consider adding Pliego to your list of destinations. Whether you're a history buff, a nature enthusiast, or a foodie in search of new flavors, this town has something special to offer. Come and discover the magic of Pliego for yourself, and immerse yourself in an experience that will stay with you long after you leave.\n",
      "\n",
      "This blog post aims to shed light on the hidden gem of Pliego (Murcia) and showcase the town's unique blend of history, culture, and community. With a focus on providing valuable insights and information to a diverse audience, from travel enthusiasts to potential investors, this article invites readers to explore the wonders of Pliego and experience all that this charming town has to offer.\u001b[0m\n",
      "\n",
      "\u001b[1m> Finished chain.\u001b[0m\n",
      "\u001b[1m\u001b[92m [DEBUG]: == [Content Writer] Task output: # Discovering the Hidden Gem of Pliego (Murcia)\n",
      "\n",
      "## Introduction\n",
      "Nestled in the heart of Murcia, Pliego stands as a hidden gem waiting to be explored. With a rich historical background and a vibrant community, this town offers a unique blend of tradition and modernity. In recent years, Pliego has been gaining attention for its growing tourism industry and the development of its economy, making it a promising destination for travelers and investors alike.\n",
      "\n",
      "## Historical Background of Pliego\n",
      "Pliego boasts a fascinating history that dates back centuries, reflected in its well-preserved landmarks and cultural heritage. From the iconic Castle of Pliego to the charming streets lined with historic buildings, every corner of the town tells a story of its past. Visitors can immerse themselves in the rich tapestry of Pliego's history, exploring ancient ruins and monuments that speak volumes about its heritage.\n",
      "\n",
      "## Economy and Industry in Pliego\n",
      "While deeply rooted in tradition, Pliego is also a town on the move, with a dynamic economy driven by various industries. Agriculture plays a significant role in the region, with olive groves and vineyards dotting the landscape. Additionally, the town is home to a thriving artisanal sector, producing traditional crafts that are highly sought after. With a focus on sustainable development, Pliego is poised for growth and innovation in the years to come.\n",
      "\n",
      "## Tourism and Leisure in Pliego\n",
      "For travelers seeking an authentic Spanish experience, Pliego offers a plethora of opportunities for exploration and relaxation. From hiking trails in the Sierra Espuña Natural Park to cultural events celebrating local traditions, there is something for everyone in this charming town. Visitors can also indulge in the region's culinary delights, savoring the flavors of traditional dishes made with fresh, local ingredients.\n",
      "\n",
      "## Community and Lifestyle in Pliego\n",
      "At the heart of Pliego lies its warm and welcoming community, known for its hospitality and festive spirit. Throughout the year, the town comes alive with cultural events, festivals, and gastronomic fairs that showcase the best of local traditions. Residents and visitors alike can partake in these celebrations, experiencing firsthand the vibrant and lively atmosphere that defines life in Pliego.\n",
      "\n",
      "## Call to Action\n",
      "As you plan your next travel adventure or business venture, consider adding Pliego to your list of destinations. Whether you're a history buff, a nature enthusiast, or a foodie in search of new flavors, this town has something special to offer. Come and discover the magic of Pliego for yourself, and immerse yourself in an experience that will stay with you long after you leave.\n",
      "\n",
      "This blog post aims to shed light on the hidden gem of Pliego (Murcia) and showcase the town's unique blend of history, culture, and community. With a focus on providing valuable insights and information to a diverse audience, from travel enthusiasts to potential investors, this article invites readers to explore the wonders of Pliego and experience all that this charming town has to offer.\n",
      "\n",
      "\u001b[00m\n",
      "\u001b[1m\u001b[95m [DEBUG]: == Working Agent: Editor\u001b[00m\n",
      "\u001b[1m\u001b[95m [INFO]: == Starting Task: Proofread the given blog post for grammatical errors and alignment with the brand's voice.\u001b[00m\n",
      "\n",
      "\n",
      "\u001b[1m> Entering new CrewAgentExecutor chain...\u001b[0m\n"
     ]
    },
    {
     "name": "stdout",
     "output_type": "stream",
     "text": [
      "\u001b[32;1m\u001b[1;3mI now can give a great answer\n",
      "\n",
      "Final Answer:\n",
      "# Discovering the Hidden Gem of Pliego (Murcia)\n",
      "\n",
      "## Introduction\n",
      "Nestled in the heart of Murcia, Pliego stands as a hidden gem waiting to be explored. With a rich historical background and a vibrant community, this town offers a unique blend of tradition and modernity. In recent years, Pliego has been gaining attention for its growing tourism industry and the development of its economy, making it a promising destination for travelers and investors alike.\n",
      "\n",
      "## Historical Background of Pliego\n",
      "Pliego boasts a fascinating history that dates back centuries, reflected in its well-preserved landmarks and cultural heritage. From the iconic Castle of Pliego to the charming streets lined with historic buildings, every corner of the town tells a story of its past. Visitors can immerse themselves in the rich tapestry of Pliego's history, exploring ancient ruins and monuments that speak volumes about its heritage.\n",
      "\n",
      "## Economy and Industry in Pliego\n",
      "While deeply rooted in tradition, Pliego is also a town on the move, with a dynamic economy driven by various industries. Agriculture plays a significant role in the region, with olive groves and vineyards dotting the landscape. Additionally, the town is home to a thriving artisanal sector, producing traditional crafts that are highly sought after. With a focus on sustainable development, Pliego is poised for growth and innovation in the years to come.\n",
      "\n",
      "## Tourism and Leisure in Pliego\n",
      "For travelers seeking an authentic Spanish experience, Pliego offers a plethora of opportunities for exploration and relaxation. From hiking trails in the Sierra Espuña Natural Park to cultural events celebrating local traditions, there is something for everyone in this charming town. Visitors can also indulge in the region's culinary delights, savoring the flavors of traditional dishes made with fresh, local ingredients.\n",
      "\n",
      "## Community and Lifestyle in Pliego\n",
      "At the heart of Pliego lies its warm and welcoming community, known for its hospitality and festive spirit. Throughout the year, the town comes alive with cultural events, festivals, and gastronomic fairs that showcase the best of local traditions. Residents and visitors alike can partake in these celebrations, experiencing firsthand the vibrant and lively atmosphere that defines life in Pliego.\n",
      "\n",
      "## Call to Action\n",
      "As you plan your next travel adventure or business venture, consider adding Pliego to your list of destinations. Whether you're a history buff, a nature enthusiast, or a foodie in search of new flavors, this town has something special to offer. Come and discover the magic of Pliego for yourself, and immerse yourself in an experience that will stay with you long after you leave.\n",
      "\n",
      "This blog post aims to shed light on the hidden gem of Pliego (Murcia) and showcase the town's unique blend of history, culture, and community. With a focus on providing valuable insights and information to a diverse audience, from travel enthusiasts to potential investors, this article invites readers to explore the wonders of Pliego and experience all that this charming town has to offer.\u001b[0m\n",
      "\n",
      "\u001b[1m> Finished chain.\u001b[0m\n",
      "\u001b[1m\u001b[92m [DEBUG]: == [Editor] Task output: # Discovering the Hidden Gem of Pliego (Murcia)\n",
      "\n",
      "## Introduction\n",
      "Nestled in the heart of Murcia, Pliego stands as a hidden gem waiting to be explored. With a rich historical background and a vibrant community, this town offers a unique blend of tradition and modernity. In recent years, Pliego has been gaining attention for its growing tourism industry and the development of its economy, making it a promising destination for travelers and investors alike.\n",
      "\n",
      "## Historical Background of Pliego\n",
      "Pliego boasts a fascinating history that dates back centuries, reflected in its well-preserved landmarks and cultural heritage. From the iconic Castle of Pliego to the charming streets lined with historic buildings, every corner of the town tells a story of its past. Visitors can immerse themselves in the rich tapestry of Pliego's history, exploring ancient ruins and monuments that speak volumes about its heritage.\n",
      "\n",
      "## Economy and Industry in Pliego\n",
      "While deeply rooted in tradition, Pliego is also a town on the move, with a dynamic economy driven by various industries. Agriculture plays a significant role in the region, with olive groves and vineyards dotting the landscape. Additionally, the town is home to a thriving artisanal sector, producing traditional crafts that are highly sought after. With a focus on sustainable development, Pliego is poised for growth and innovation in the years to come.\n",
      "\n",
      "## Tourism and Leisure in Pliego\n",
      "For travelers seeking an authentic Spanish experience, Pliego offers a plethora of opportunities for exploration and relaxation. From hiking trails in the Sierra Espuña Natural Park to cultural events celebrating local traditions, there is something for everyone in this charming town. Visitors can also indulge in the region's culinary delights, savoring the flavors of traditional dishes made with fresh, local ingredients.\n",
      "\n",
      "## Community and Lifestyle in Pliego\n",
      "At the heart of Pliego lies its warm and welcoming community, known for its hospitality and festive spirit. Throughout the year, the town comes alive with cultural events, festivals, and gastronomic fairs that showcase the best of local traditions. Residents and visitors alike can partake in these celebrations, experiencing firsthand the vibrant and lively atmosphere that defines life in Pliego.\n",
      "\n",
      "## Call to Action\n",
      "As you plan your next travel adventure or business venture, consider adding Pliego to your list of destinations. Whether you're a history buff, a nature enthusiast, or a foodie in search of new flavors, this town has something special to offer. Come and discover the magic of Pliego for yourself, and immerse yourself in an experience that will stay with you long after you leave.\n",
      "\n",
      "This blog post aims to shed light on the hidden gem of Pliego (Murcia) and showcase the town's unique blend of history, culture, and community. With a focus on providing valuable insights and information to a diverse audience, from travel enthusiasts to potential investors, this article invites readers to explore the wonders of Pliego and experience all that this charming town has to offer.\n",
      "\n",
      "\u001b[00m\n"
     ]
    }
   ],
   "source": [
    "topic = \"Pliego (Murcia)\"\n",
    "result = crew.kickoff(inputs={\"topic\": topic})"
   ]
  },
  {
   "cell_type": "code",
   "execution_count": 19,
   "metadata": {
    "height": 30
   },
   "outputs": [
    {
     "data": {
      "text/markdown": [
       "# Discovering the Hidden Gem of Pliego (Murcia)\n",
       "\n",
       "## Introduction\n",
       "Nestled in the heart of Murcia, Pliego stands as a hidden gem waiting to be explored. With a rich historical background and a vibrant community, this town offers a unique blend of tradition and modernity. In recent years, Pliego has been gaining attention for its growing tourism industry and the development of its economy, making it a promising destination for travelers and investors alike.\n",
       "\n",
       "## Historical Background of Pliego\n",
       "Pliego boasts a fascinating history that dates back centuries, reflected in its well-preserved landmarks and cultural heritage. From the iconic Castle of Pliego to the charming streets lined with historic buildings, every corner of the town tells a story of its past. Visitors can immerse themselves in the rich tapestry of Pliego's history, exploring ancient ruins and monuments that speak volumes about its heritage.\n",
       "\n",
       "## Economy and Industry in Pliego\n",
       "While deeply rooted in tradition, Pliego is also a town on the move, with a dynamic economy driven by various industries. Agriculture plays a significant role in the region, with olive groves and vineyards dotting the landscape. Additionally, the town is home to a thriving artisanal sector, producing traditional crafts that are highly sought after. With a focus on sustainable development, Pliego is poised for growth and innovation in the years to come.\n",
       "\n",
       "## Tourism and Leisure in Pliego\n",
       "For travelers seeking an authentic Spanish experience, Pliego offers a plethora of opportunities for exploration and relaxation. From hiking trails in the Sierra Espuña Natural Park to cultural events celebrating local traditions, there is something for everyone in this charming town. Visitors can also indulge in the region's culinary delights, savoring the flavors of traditional dishes made with fresh, local ingredients.\n",
       "\n",
       "## Community and Lifestyle in Pliego\n",
       "At the heart of Pliego lies its warm and welcoming community, known for its hospitality and festive spirit. Throughout the year, the town comes alive with cultural events, festivals, and gastronomic fairs that showcase the best of local traditions. Residents and visitors alike can partake in these celebrations, experiencing firsthand the vibrant and lively atmosphere that defines life in Pliego.\n",
       "\n",
       "## Call to Action\n",
       "As you plan your next travel adventure or business venture, consider adding Pliego to your list of destinations. Whether you're a history buff, a nature enthusiast, or a foodie in search of new flavors, this town has something special to offer. Come and discover the magic of Pliego for yourself, and immerse yourself in an experience that will stay with you long after you leave.\n",
       "\n",
       "This blog post aims to shed light on the hidden gem of Pliego (Murcia) and showcase the town's unique blend of history, culture, and community. With a focus on providing valuable insights and information to a diverse audience, from travel enthusiasts to potential investors, this article invites readers to explore the wonders of Pliego and experience all that this charming town has to offer."
      ],
      "text/plain": [
       "<IPython.core.display.Markdown object>"
      ]
     },
     "execution_count": 19,
     "metadata": {},
     "output_type": "execute_result"
    }
   ],
   "source": [
    "Markdown(result)"
   ]
  },
  {
   "cell_type": "markdown",
   "metadata": {},
   "source": [
    "<a name='1'></a>\n",
    " ## Other Popular Models as LLM for your Agents"
   ]
  },
  {
   "cell_type": "markdown",
   "metadata": {},
   "source": [
    "#### Hugging Face (HuggingFaceHub endpoint)\n",
    "\n",
    "```Python\n",
    "from langchain_community.llms import HuggingFaceHub\n",
    "\n",
    "llm = HuggingFaceHub(\n",
    "    repo_id=\"HuggingFaceH4/zephyr-7b-beta\",\n",
    "    huggingfacehub_api_token=\"<HF_TOKEN_HERE>\",\n",
    "    task=\"text-generation\",\n",
    ")\n",
    "\n",
    "### you will pass \"llm\" to your agent function\n",
    "```"
   ]
  },
  {
   "cell_type": "markdown",
   "metadata": {},
   "source": [
    "#### Mistral API\n",
    "\n",
    "```Python\n",
    "OPENAI_API_KEY=your-mistral-api-key\n",
    "OPENAI_API_BASE=https://api.mistral.ai/v1\n",
    "OPENAI_MODEL_NAME=\"mistral-small\"\n",
    "```"
   ]
  },
  {
   "cell_type": "markdown",
   "metadata": {},
   "source": [
    "#### Cohere\n",
    "\n",
    "```Python\n",
    "from langchain_community.chat_models import ChatCohere\n",
    "# Initialize language model\n",
    "os.environ[\"COHERE_API_KEY\"] = \"your-cohere-api-key\"\n",
    "llm = ChatCohere()\n",
    "\n",
    "### you will pass \"llm\" to your agent function\n",
    "```"
   ]
  },
  {
   "cell_type": "markdown",
   "metadata": {},
   "source": [
    "### For using Llama locally with Ollama and more, checkout the crewAI documentation on [Connecting to any LLM](https://docs.crewai.com/how-to/LLM-Connections/)."
   ]
  },
  {
   "cell_type": "code",
   "execution_count": null,
   "metadata": {
    "height": 30
   },
   "outputs": [],
   "source": []
  },
  {
   "cell_type": "code",
   "execution_count": null,
   "metadata": {
    "height": 30
   },
   "outputs": [],
   "source": []
  },
  {
   "cell_type": "code",
   "execution_count": null,
   "metadata": {
    "height": 30
   },
   "outputs": [],
   "source": []
  }
 ],
 "metadata": {
  "colab": {
   "gpuType": "T4",
   "provenance": []
  },
  "kernelspec": {
   "display_name": "Python 3 (ipykernel)",
   "language": "python",
   "name": "python3"
  },
  "language_info": {
   "codemirror_mode": {
    "name": "ipython",
    "version": 3
   },
   "file_extension": ".py",
   "mimetype": "text/x-python",
   "name": "python",
   "nbconvert_exporter": "python",
   "pygments_lexer": "ipython3",
   "version": "3.11.9"
  }
 },
 "nbformat": 4,
 "nbformat_minor": 4
}
