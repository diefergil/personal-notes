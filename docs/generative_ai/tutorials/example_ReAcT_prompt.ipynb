{
 "cells": [
  {
   "cell_type": "markdown",
   "metadata": {},
   "source": [
    "In this exercise, you explored creating a wellness agent using ReACT Prompting techniques\n",
    "\n",
    "Your system message (ReACT agent instructions) will be different than the example below.  Because we're sending natural language, there is no right or wrong answer.  "
   ]
  },
  {
   "cell_type": "code",
   "execution_count": 1,
   "metadata": {},
   "outputs": [],
   "source": [
    "# Importing the library for OpenAI API\n",
    "from openai import OpenAI\n",
    "import os\n",
    "\n",
    "# Define OpenAI API key\n",
    "client = OpenAI(api_key=os.getenv(\"OPENAI_API_KEY\"))"
   ]
  },
  {
   "cell_type": "markdown",
   "metadata": {},
   "source": [
    "This example user prompt is related to wellness. "
   ]
  },
  {
   "cell_type": "code",
   "execution_count": 3,
   "metadata": {},
   "outputs": [
    {
     "name": "stdout",
     "output_type": "stream",
     "text": [
      "How can I know my diet is improving my wellness?\n"
     ]
    }
   ],
   "source": [
    "# Creating the prompt\n",
    "user_prompt = \"How can I know my diet is improving my wellness?\"\n",
    "print(user_prompt)"
   ]
  },
  {
   "cell_type": "markdown",
   "metadata": {},
   "source": [
    "An example solution to a ReACT system prompt for a wellness agent: "
   ]
  },
  {
   "cell_type": "code",
   "execution_count": 4,
   "metadata": {},
   "outputs": [
    {
     "name": "stdout",
     "output_type": "stream",
     "text": [
      "Wellness Agent Response: \n",
      "(Thought) User is interested in evaluating how their diet impacts their overall wellness, indicating a willingness to make positive changes in their eating habits. \n",
      "\n",
      "Collect[Details about user's current diet] - Could you share what your typical daily meals consist of? Do you have any specific dietary preferences or restrictions?\n",
      "\n",
      "Provide[Wellness Information] - A balanced diet rich in fruits, vegetables, whole grains, lean proteins, and healthy fats is crucial for overall wellness. Monitoring how your body feels and functions can provide insights into the impact of your diet on your well-being. \n",
      "\n",
      "Recommend[Plan] - Keep a food journal to track what you eat and how it makes you feel physically and mentally. Consider consulting a nutritionist or healthcare professional to assess your current diet and make personalized recommendations. Implement small changes, one at a time, to make it easier to evaluate their effects on your wellness.\n",
      "\n",
      "Observation: How do you feel after meals? Are there any specific foods that make you feel more energetic or sluggish? Would you consider keeping a food diary to track your meals and how they affect your well-being? Let's take a step towards improvement by focusing on one aspect of your diet that you feel could be healthier.\n"
     ]
    }
   ],
   "source": [
    "# Function to call the OpenAI GPT-3.5 API\n",
    "def wellness_agent(user_prompt):\n",
    "    try:\n",
    "        # Calling the OpenAI API with a system message and our prompt in the user message content\n",
    "        # Use openai.ChatCompletion.create for openai < 1.0\n",
    "        # openai.chat.completions.create for openai > 1.0\n",
    "        response = client.chat.completions.create(\n",
    "            model=\"gpt-3.5-turbo\",\n",
    "            messages=[\n",
    "                {\n",
    "                    \"role\": \"system\",\n",
    "                    \"content\": \"\"\"Your goal is to improve the wellness of the user by interleaving thought, action, and observation steps.\n",
    "              (Thought Step) Begin by assessing the user's current wellness situation. Consider factors like their reported diet, exercise habits, mental health status, and any specific wellness goals they have shared.\n",
    "              (Action Steps) Collect[Data from user] - Engage with the user to gather essential wellness information, data, or metrics. This can include dietary habits, fitness routines, stress levels, sleep patterns, and wellness objectives. \n",
    "                             Provide[Wellness Information] - Based on the collected data and current wellness trends, offer knowledge and insights about nutrition, exercise regimes, mental wellness practices, and relevant biological or medical information that supports and improves wellness. \n",
    "                             Recommend[Plan] - Conclude with a tailored recommendation or a specific action plan that the user can implement to enhance their wellness. This could be a dietary change, a new exercise, a mental relaxation technique, or a suggestion to consult a healthcare professional for more personalized advice. \n",
    "              (Observation Step) Respond to the user with the Action Steps, and observe the user's response and engagement. Gauge their understanding and willingness to follow the suggestions. Be ready to offer further clarification or alternative recommendations if needed.\n",
    "              Repeat these steps N times until the user's wellness has improved.\n",
    "              Example: \n",
    "              [User Query] I'm feeling stressed and not sleeping well. What can I do to improve my sleep? \n",
    "              (Thought) User is experiencing stress and poor sleep, likely interconnected issues. \n",
    "              Collect[Details about user's current stressors and sleep habits], \n",
    "              Provide[Information on relaxation techniques and sleep hygiene practices]. \n",
    "              Recommend)[Plan] Consider trying meditation before bed and establishing a regular sleep schedule. \n",
    "              What are some current stressors in your life? How many hours of sleep do you get each night?\n",
    "              Have you tried meditation before bed? Do you have a regular sleep schedule?\n",
    "              Consider trying meditation before bed and establishing a regular sleep schedule.\n",
    "              Let's create a plan to meditate for 10 minutes before bed each night this week.\n",
    "              What are some other wellness goals you have or wellness issues you are experiencing?\n",
    "              \"\"\",\n",
    "                },\n",
    "                {\"role\": \"user\", \"content\": user_prompt},\n",
    "            ],\n",
    "            temperature=1,\n",
    "            max_tokens=512,\n",
    "            top_p=1,\n",
    "            frequency_penalty=0,\n",
    "            presence_penalty=0,\n",
    "        )\n",
    "        # The response is a JSON object containing more information than the response. We want to return only the message content\n",
    "        return response.choices[0].message.content\n",
    "    except Exception as e:\n",
    "        return f\"An error occurred: {e}\"\n",
    "\n",
    "\n",
    "# Running the wellness agent\n",
    "run_wellness_agent = wellness_agent(user_prompt)\n",
    "\n",
    "# Printing the output.\n",
    "print(\"Wellness Agent Response: \")\n",
    "print(run_wellness_agent)"
   ]
  },
  {
   "cell_type": "code",
   "execution_count": 8,
   "metadata": {},
   "outputs": [
    {
     "name": "stdout",
     "output_type": "stream",
     "text": [
      "Wellness Agent Response: \n",
      "Thought: The user seems to have a structured eating pattern with intermittent fasting, a balanced diet with adequate protein, carbs, and vegetables, regular exercise routine including strength training, and good hydration habits. However, they are experiencing a lack of energy during the day and have difficulty concentrating, impacting their mental wellness.\n",
      "\n",
      "Collect: How long have you been following this eating and exercise routine? How many hours of sleep do you typically get per night? Do you consume any caffeine or stimulants besides coffee before lunch?\n",
      "\n",
      "Provide: Lack of energy during the day and difficulty concentrating can be influenced by various factors, including sleep quality, nutrient intake, hydration levels, and stress management. It's essential to ensure you're getting enough quality sleep, maintaining proper hydration, and managing stress effectively.\n",
      "\n",
      "Recommend: \n",
      "1. **Adjust Meal Timing:** Consider shifting your fasting window to match your body's energy levels better. You could try having a balanced breakfast to kickstart your day and see if it enhances your morning energy levels.\n",
      "2. **Nutrient-Rich Snacks:** Instead of kefir with whey protein and oatmeal, consider adding more variety to your snacks to ensure you're getting a broad range of nutrients.\n",
      "3. **Hydration:** Continue with your good hydration habits, ensuring you're getting enough water throughout the day.\n",
      "4. **Sleep Routine:** Aim for 7-9 hours of quality sleep each night to support your physical and mental wellness.\n",
      "5. **Mental Focus:** Practice mindfulness techniques such as meditation or deep breathing exercises to enhance your concentration and focus during work or study.\n",
      "\n",
      "How do you feel about adjusting your meal timing or trying some new nutrient-rich snack options? Are you open to incorporating mindfulness techniques into your daily routine to improve concentration?\n"
     ]
    }
   ],
   "source": [
    "# Running the wellness agent\n",
    "run_wellness_agent = wellness_agent(user_prompt)\n",
    "\n",
    "# Printing the output.\n",
    "print(\"Wellness Agent Response: \")\n",
    "print(run_wellness_agent)"
   ]
  }
 ],
 "metadata": {
  "kernelspec": {
   "display_name": "Python 3 (ipykernel)",
   "language": "python",
   "name": "python3"
  },
  "language_info": {
   "codemirror_mode": {
    "name": "ipython",
    "version": 3
   },
   "file_extension": ".py",
   "mimetype": "text/x-python",
   "name": "python",
   "nbconvert_exporter": "python",
   "pygments_lexer": "ipython3",
   "version": "3.11.6"
  }
 },
 "nbformat": 4,
 "nbformat_minor": 2
}
